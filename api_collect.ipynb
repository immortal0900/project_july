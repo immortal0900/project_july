{
 "cells": [
  {
   "cell_type": "markdown",
   "id": "07f94292",
   "metadata": {},
   "source": [
    "# 국립중앙의료원_전국 응급의료기관 정보 조회 서비스\n",
    "## 응급실 실시간 가용정보 조회하기 "
   ]
  },
  {
   "cell_type": "code",
   "execution_count": 2,
   "id": "79c7dae2",
   "metadata": {},
   "outputs": [
    {
     "name": "stdout",
     "output_type": "stream",
     "text": [
      "vdf/OCRTi8Hm9G8kmPBnDSFp4SIueq5e4VdY7z+Z08bYpJyCshFL3+pywH5aM4igoqHWKzUL7+4vEaUNu2qdTw==\n"
     ]
    }
   ],
   "source": [
    "from dotenv import load_dotenv\n",
    "import os\n",
    "\n",
    "load_dotenv()\n",
    "print(os.getenv('PUBLIC_DATA_API_KEY_DE'))\n"
   ]
  },
  {
   "cell_type": "markdown",
   "id": "a59d6aff",
   "metadata": {},
   "source": [
    "## 2) url 만들기"
   ]
  },
  {
   "cell_type": "code",
   "execution_count": 3,
   "id": "bc11eaa1",
   "metadata": {},
   "outputs": [
    {
     "name": "stdout",
     "output_type": "stream",
     "text": [
      "http://apis.data.go.kr/B552657/ErmctInfoInqireService/getEmrrmRltmUsefulSckbdInfoInqire?serviceKey=vdf/OCRTi8Hm9G8kmPBnDSFp4SIueq5e4VdY7z+Z08bYpJyCshFL3+pywH5aM4igoqHWKzUL7+4vEaUNu2qdTw==&STAGE1=서울특별시&STAGE2=강남구&numOfRows=10\n"
     ]
    }
   ],
   "source": [
    "base_url = \"http://apis.data.go.kr/B552657/ErmctInfoInqireService/getEmrrmRltmUsefulSckbdInfoInqire\"\n",
    "\n",
    "service_key = os.getenv('PUBLIC_DATA_API_KEY_DE')\n",
    "STAGE1 = \"서울특별시\"\n",
    "STAGE2 = \"강남구\"\n",
    "numOfRows = 10\n",
    "\n",
    "url = f'{base_url}?serviceKey={service_key}&STAGE1={STAGE1}&STAGE2={STAGE2}&numOfRows={numOfRows}'\n",
    "print(url)"
   ]
  },
  {
   "cell_type": "code",
   "execution_count": 4,
   "id": "3a228ece",
   "metadata": {},
   "outputs": [
    {
     "name": "stdout",
     "output_type": "stream",
     "text": [
      "<Response [200]>\n"
     ]
    }
   ],
   "source": [
    "import requests\n",
    "response = requests.get(url)\n",
    "print(response)"
   ]
  },
  {
   "cell_type": "code",
   "execution_count": 6,
   "id": "cf66c151",
   "metadata": {},
   "outputs": [
    {
     "name": "stdout",
     "output_type": "stream",
     "text": [
      "<OpenAPI_ServiceResponse>\n",
      "\t<cmmMsgHeader>\n",
      "\t\t<errMsg>SERVICE ERROR</errMsg>\n",
      "\t\t<returnAuthMsg>SERVICE_KEY_IS_NOT_REGISTERED_ERROR</returnAuthMsg>\n",
      "\t\t<returnReasonCode>30</returnReasonCode>\n",
      "\t</cmmMsgHeader>\n",
      "</OpenAPI_ServiceResponse>\n"
     ]
    }
   ],
   "source": [
    "print(response.text)\n"
   ]
  },
  {
   "cell_type": "markdown",
   "id": "969716d8",
   "metadata": {},
   "source": [
    "## 3) 데이터 파악하기"
   ]
  },
  {
   "cell_type": "code",
   "execution_count": 7,
   "id": "9f7e2626",
   "metadata": {},
   "outputs": [
    {
     "name": "stdout",
     "output_type": "stream",
     "text": [
      "<OpenAPI_ServiceResponse>\n",
      "\t<cmmMsgHeader>\n",
      "\t\t<errMsg>SERVICE ERROR</errMsg>\n",
      "\t\t<returnAuthMsg>SERVICE_KEY_IS_NOT_REGISTERED_ERROR</returnAuthMsg>\n",
      "\t\t<returnReasonCode>30</returnReasonCode>\n",
      "\t</cmmMsgHeader>\n",
      "</OpenAPI_ServiceResponse>\n",
      "<class 'str'>\n"
     ]
    },
    {
     "ename": "TypeError",
     "evalue": "string indices must be integers, not 'str'",
     "output_type": "error",
     "traceback": [
      "\u001b[31m---------------------------------------------------------------------------\u001b[39m",
      "\u001b[31mTypeError\u001b[39m                                 Traceback (most recent call last)",
      "\u001b[36mCell\u001b[39m\u001b[36m \u001b[39m\u001b[32mIn[7]\u001b[39m\u001b[32m, line 5\u001b[39m\n\u001b[32m      3\u001b[39m \u001b[38;5;28mprint\u001b[39m(\u001b[38;5;28mtype\u001b[39m(response_text))\n\u001b[32m      4\u001b[39m \u001b[38;5;66;03m# \"{\"A\": 0, \"B\": 1, \"C\": 2}\"\u001b[39;00m\n\u001b[32m----> \u001b[39m\u001b[32m5\u001b[39m \u001b[38;5;28mprint\u001b[39m(\u001b[43mresponse_text\u001b[49m\u001b[43m[\u001b[49m\u001b[33;43m\"\u001b[39;49m\u001b[33;43mresultCode\u001b[39;49m\u001b[33;43m\"\u001b[39;49m\u001b[43m]\u001b[49m)\n",
      "\u001b[31mTypeError\u001b[39m: string indices must be integers, not 'str'"
     ]
    }
   ],
   "source": [
    "\n",
    "response_text = response.text\n",
    "print(response_text)\n",
    "print(type(response_text))\n",
    "# \"{\"A\": 0, \"B\": 1, \"C\": 2}\"\n",
    "print(response_text[\"resultCode\"])"
   ]
  },
  {
   "cell_type": "raw",
   "metadata": {
    "vscode": {
     "languageId": "raw"
    }
   },
   "source": [
    "\n"
   ]
  },
  {
   "cell_type": "code",
   "execution_count": null,
   "id": "92b13267",
   "metadata": {},
   "outputs": [],
   "source": [
    "\n"
   ]
  },
  {
   "cell_type": "code",
   "execution_count": null,
   "id": "dfbad39d",
   "metadata": {},
   "outputs": [],
   "source": [
    "\n"
   ]
  },
  {
   "cell_type": "code",
   "execution_count": null,
   "id": "bd7ff0f2",
   "metadata": {},
   "outputs": [],
   "source": [
    "\n"
   ]
  },
  {
   "cell_type": "code",
   "execution_count": null,
   "id": "12b90b1d",
   "metadata": {},
   "outputs": [],
   "source": [
    "\n"
   ]
  },
  {
   "cell_type": "raw",
   "metadata": {
    "vscode": {
     "languageId": "raw"
    }
   },
   "source": [
    "\n"
   ]
  },
  {
   "cell_type": "code",
   "execution_count": null,
   "id": "54bf92e3",
   "metadata": {},
   "outputs": [],
   "source": [
    "\n"
   ]
  },
  {
   "cell_type": "code",
   "execution_count": null,
   "id": "80d1d803",
   "metadata": {},
   "outputs": [],
   "source": [
    "\n"
   ]
  },
  {
   "cell_type": "raw",
   "metadata": {
    "vscode": {
     "languageId": "raw"
    }
   },
   "source": [
    "\n"
   ]
  },
  {
   "cell_type": "code",
   "execution_count": null,
   "id": "3f2315ac",
   "metadata": {},
   "outputs": [],
   "source": [
    "\n"
   ]
  },
  {
   "cell_type": "code",
   "execution_count": null,
   "id": "a09dffd6",
   "metadata": {},
   "outputs": [],
   "source": [
    "\n"
   ]
  },
  {
   "cell_type": "raw",
   "metadata": {
    "vscode": {
     "languageId": "raw"
    }
   },
   "source": [
    "\n"
   ]
  },
  {
   "cell_type": "code",
   "execution_count": null,
   "id": "bd663ba4",
   "metadata": {},
   "outputs": [],
   "source": [
    "\n"
   ]
  }
 ],
 "metadata": {
  "kernelspec": {
   "display_name": ".venv",
   "language": "python",
   "name": "python3"
  },
  "language_info": {
   "codemirror_mode": {
    "name": "ipython",
    "version": 3
   },
   "file_extension": ".py",
   "mimetype": "text/x-python",
   "name": "python",
   "nbconvert_exporter": "python",
   "pygments_lexer": "ipython3",
   "version": "3.11.13"
  }
 },
 "nbformat": 4,
 "nbformat_minor": 5
}
