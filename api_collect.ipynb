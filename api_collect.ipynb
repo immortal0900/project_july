{
 "cells": [
  {
   "cell_type": "markdown",
   "id": "07f94292",
   "metadata": {},
   "source": [
    "# 국립중앙의료원_전국 응급의료기관 정보 조회 서비스\n",
    "## 응급실 실시간 가용정보 조회하기 "
   ]
  },
  {
   "cell_type": "code",
   "execution_count": 1,
   "id": "79c7dae2",
   "metadata": {},
   "outputs": [
    {
     "name": "stdout",
     "output_type": "stream",
     "text": [
      "vdf%2FOCRTi8Hm9G8kmPBnDSFp4SIueq5e4VdY7z%2BZ08bYpJyCshFL3%2BpywH5aM4igoqHWKzUL7%2B4vEaUNu2qdTw%3D%3D\n"
     ]
    }
   ],
   "source": [
    "from dotenv import load_dotenv\n",
    "import os\n",
    "\n",
    "load_dotenv()\n",
    "print(os.getenv('PUBLIC_DATA_API_KEY'))\n"
   ]
  },
  {
   "cell_type": "markdown",
   "id": "a59d6aff",
   "metadata": {},
   "source": [
    "## 2) url 만들기"
   ]
  },
  {
   "cell_type": "code",
   "execution_count": 3,
   "id": "bc11eaa1",
   "metadata": {},
   "outputs": [
    {
     "name": "stdout",
     "output_type": "stream",
     "text": [
      "http://apis.data.go.kr/B552657/ErmctInfoInqireService/getEmrrmRltmUsefulSckbdInfoInqire?serviceKey=vdf%2FOCRTi8Hm9G8kmPBnDSFp4SIueq5e4VdY7z%2BZ08bYpJyCshFL3%2BpywH5aM4igoqHWKzUL7%2B4vEaUNu2qdTw%3D%3D&STAGE1=서울특별시&STAGE2=강남구&numOfRows=10\n"
     ]
    }
   ],
   "source": [
    "base_url = \"http://apis.data.go.kr/B552657/ErmctInfoInqireService/getEmrrmRltmUsefulSckbdInfoInqire\"\n",
    "\n",
    "service_key = os.getenv('PUBLIC_DATA_API_KEY')\n",
    "STAGE1 = \"서울특별시\"\n",
    "STAGE2 = \"강남구\"\n",
    "numOfRows = 10\n",
    "\n",
    "url = f'{base_url}?serviceKey={service_key}&STAGE1={STAGE1}&STAGE2={STAGE2}&numOfRows={numOfRows}'\n",
    "print(url)"
   ]
  },
  {
   "cell_type": "code",
   "execution_count": 7,
   "id": "3a228ece",
   "metadata": {},
   "outputs": [
    {
     "name": "stdout",
     "output_type": "stream",
     "text": [
      "<Response [200]>\n"
     ]
    }
   ],
   "source": [
    "import requests\n",
    "response = requests.get(url)\n",
    "print(response)"
   ]
  },
  {
   "cell_type": "code",
   "execution_count": 8,
   "id": "2de987bf",
   "metadata": {},
   "outputs": [
    {
     "name": "stdout",
     "output_type": "stream",
     "text": [
      "<?xml version=\"1.0\" encoding=\"UTF-8\" standalone=\"yes\"?><response><header><resultCode>00</resultCode><resultMsg>NORMAL SERVICE.</resultMsg></header><body><items><item><dutyName>연세대학교의과대학강남세브란스병원</dutyName><dutyTel3>02-2019-3333</dutyTel3><hpid>A1100015</hpid><hv10>Y</hv10><hv11>Y</hv11><hv28>1</hv28><hv29>1</hv29><hv30>2</hv30><hv34>5</hv34><hv41>4</hv41><hv42>Y</hv42><hv5>Y</hv5><hv6>7</hv6><hv7>Y</hv7><hvamyn>Y</hvamyn><hvangioayn>Y</hvangioayn><hvcrrtayn>Y</hvcrrtayn><hvctayn>Y</hvctayn><hvec>-1</hvec><hvecmoayn>Y</hvecmoayn><hvgc>131</hvgc><hvhypoayn>Y</hvhypoayn><hvicc>14</hvicc><hvidate>20250725222112</hvidate><hvincuayn>Y</hvincuayn><hvmriayn>Y</hvmriayn><hvncc>0</hvncc><hvoc>23</hvoc><hvoxyayn>N1</hvoxyayn><hvs01>15</hvs01><hvs02>2</hvs02><hvs03>1</hvs03><hvs04>2</hvs04><hvs08>28</hvs08><hvs12>12</hvs12><hvs15>8</hvs15><hvs17>29</hvs17><hvs22>23</hvs22><hvs25>5</hvs25><hvs26>1</hvs26><hvs27>4</hvs27><hvs28>3</hvs28><hvs29>6</hvs29><hvs30>47</hvs30><hvs31>10</hvs31><hvs32>23</hvs32><hvs33>6</hvs33><hvs34>3</hvs34><hvs35>5</hvs35><hvs38>690</hvs38><hvventiayn>Y</hvventiayn><hvventisoayn>Y</hvventisoayn><phpid>A1100015</phpid><rnum>1</rnum></item><item><dutyName>삼성서울병원</dutyName><dutyTel3>02-3410-2060</dutyTel3><hpid>A1100010</hpid><hv10>Y</hv10><hv11>Y</hv11><hv2>11</hv2><hv28>3</hv28><hv29>0</hv29><hv3>10</hv3><hv30>2</hv30><hv32>5</hv32><hv34>2</hv34><hv35>2</hv35><hv40>8</hv40><hv41>12</hv41><hv42>Y</hv42><hv5>Y</hv5><hv6>4</hv6><hv7>Y</hv7><hvamyn>Y</hvamyn><hvangioayn>Y</hvangioayn><hvccc>1</hvccc><hvcrrtayn>Y</hvcrrtayn><hvctayn>Y</hvctayn><hvec>-4</hvec><hvecmoayn>Y</hvecmoayn><hvgc>285</hvgc><hvhypoayn>Y</hvhypoayn><hvicc>2</hvicc><hvidate>20250725222225</hvidate><hvincuayn>Y</hvincuayn><hvmriayn>Y</hvmriayn><hvncc>7</hvncc><hvoc>52</hvoc><hvoxyayn>N1</hvoxyayn><hvs01>32</hvs01><hvs02>4</hvs02><hvs03>2</hvs03><hvs04>2</hvs04><hvs06>30</hvs06><hvs07>23</hvs07><hvs08>59</hvs08><hvs09>15</hvs09><hvs12>12</hvs12><hvs15>12</hvs15><hvs16>25</hvs16><hvs17>10</hvs17><hvs18>2</hvs18><hvs22>56</hvs22><hvs24>27</hvs24><hvs25>12</hvs25><hvs26>7</hvs26><hvs27>17</hvs27><hvs28>13</hvs28><hvs29>14</hvs29><hvs30>130</hvs30><hvs31>18</hvs31><hvs32>42</hvs32><hvs33>19</hvs33><hvs34>10</hvs34><hvs35>2</hvs35><hvs38>1532</hvs38><hvventiayn>Y</hvventiayn><hvventisoayn>Y</hvventisoayn><phpid>A1100010</phpid><rnum>2</rnum></item></items><numOfRows>10</numOfRows><pageNo>1</pageNo><totalCount>2</totalCount></body></response>\n"
     ]
    },
    {
     "ename": "JSONDecodeError",
     "evalue": "Expecting value: line 1 column 1 (char 0)",
     "output_type": "error",
     "traceback": [
      "\u001b[31m---------------------------------------------------------------------------\u001b[39m",
      "\u001b[31mJSONDecodeError\u001b[39m                           Traceback (most recent call last)",
      "\u001b[36mFile \u001b[39m\u001b[32mc:\\hospital\\.venv\\Lib\\site-packages\\requests\\models.py:965\u001b[39m, in \u001b[36mResponse.json\u001b[39m\u001b[34m(self, **kwargs)\u001b[39m\n\u001b[32m    964\u001b[39m \u001b[38;5;28;01mtry\u001b[39;00m:\n\u001b[32m--> \u001b[39m\u001b[32m965\u001b[39m     \u001b[38;5;28;01mreturn\u001b[39;00m \u001b[43mcomplexjson\u001b[49m\u001b[43m.\u001b[49m\u001b[43mloads\u001b[49m\u001b[43m(\u001b[49m\u001b[38;5;28;43mself\u001b[39;49m\u001b[43m.\u001b[49m\u001b[43mcontent\u001b[49m\u001b[43m.\u001b[49m\u001b[43mdecode\u001b[49m\u001b[43m(\u001b[49m\u001b[43mencoding\u001b[49m\u001b[43m)\u001b[49m\u001b[43m,\u001b[49m\u001b[43m \u001b[49m\u001b[43m*\u001b[49m\u001b[43m*\u001b[49m\u001b[43mkwargs\u001b[49m\u001b[43m)\u001b[49m\n\u001b[32m    966\u001b[39m \u001b[38;5;28;01mexcept\u001b[39;00m \u001b[38;5;167;01mUnicodeDecodeError\u001b[39;00m:\n\u001b[32m    967\u001b[39m     \u001b[38;5;66;03m# Wrong UTF codec detected; usually because it's not UTF-8\u001b[39;00m\n\u001b[32m    968\u001b[39m     \u001b[38;5;66;03m# but some other 8-bit codec.  This is an RFC violation,\u001b[39;00m\n\u001b[32m    969\u001b[39m     \u001b[38;5;66;03m# and the server didn't bother to tell us what codec *was*\u001b[39;00m\n\u001b[32m    970\u001b[39m     \u001b[38;5;66;03m# used.\u001b[39;00m\n",
      "\u001b[36mFile \u001b[39m\u001b[32m~\\AppData\\Roaming\\uv\\python\\cpython-3.11.13-windows-x86_64-none\\Lib\\json\\__init__.py:346\u001b[39m, in \u001b[36mloads\u001b[39m\u001b[34m(s, cls, object_hook, parse_float, parse_int, parse_constant, object_pairs_hook, **kw)\u001b[39m\n\u001b[32m    343\u001b[39m \u001b[38;5;28;01mif\u001b[39;00m (\u001b[38;5;28mcls\u001b[39m \u001b[38;5;129;01mis\u001b[39;00m \u001b[38;5;28;01mNone\u001b[39;00m \u001b[38;5;129;01mand\u001b[39;00m object_hook \u001b[38;5;129;01mis\u001b[39;00m \u001b[38;5;28;01mNone\u001b[39;00m \u001b[38;5;129;01mand\u001b[39;00m\n\u001b[32m    344\u001b[39m         parse_int \u001b[38;5;129;01mis\u001b[39;00m \u001b[38;5;28;01mNone\u001b[39;00m \u001b[38;5;129;01mand\u001b[39;00m parse_float \u001b[38;5;129;01mis\u001b[39;00m \u001b[38;5;28;01mNone\u001b[39;00m \u001b[38;5;129;01mand\u001b[39;00m\n\u001b[32m    345\u001b[39m         parse_constant \u001b[38;5;129;01mis\u001b[39;00m \u001b[38;5;28;01mNone\u001b[39;00m \u001b[38;5;129;01mand\u001b[39;00m object_pairs_hook \u001b[38;5;129;01mis\u001b[39;00m \u001b[38;5;28;01mNone\u001b[39;00m \u001b[38;5;129;01mand\u001b[39;00m \u001b[38;5;129;01mnot\u001b[39;00m kw):\n\u001b[32m--> \u001b[39m\u001b[32m346\u001b[39m     \u001b[38;5;28;01mreturn\u001b[39;00m \u001b[43m_default_decoder\u001b[49m\u001b[43m.\u001b[49m\u001b[43mdecode\u001b[49m\u001b[43m(\u001b[49m\u001b[43ms\u001b[49m\u001b[43m)\u001b[49m\n\u001b[32m    347\u001b[39m \u001b[38;5;28;01mif\u001b[39;00m \u001b[38;5;28mcls\u001b[39m \u001b[38;5;129;01mis\u001b[39;00m \u001b[38;5;28;01mNone\u001b[39;00m:\n",
      "\u001b[36mFile \u001b[39m\u001b[32m~\\AppData\\Roaming\\uv\\python\\cpython-3.11.13-windows-x86_64-none\\Lib\\json\\decoder.py:337\u001b[39m, in \u001b[36mJSONDecoder.decode\u001b[39m\u001b[34m(self, s, _w)\u001b[39m\n\u001b[32m    333\u001b[39m \u001b[38;5;250m\u001b[39m\u001b[33;03m\"\"\"Return the Python representation of ``s`` (a ``str`` instance\u001b[39;00m\n\u001b[32m    334\u001b[39m \u001b[33;03mcontaining a JSON document).\u001b[39;00m\n\u001b[32m    335\u001b[39m \n\u001b[32m    336\u001b[39m \u001b[33;03m\"\"\"\u001b[39;00m\n\u001b[32m--> \u001b[39m\u001b[32m337\u001b[39m obj, end = \u001b[38;5;28;43mself\u001b[39;49m\u001b[43m.\u001b[49m\u001b[43mraw_decode\u001b[49m\u001b[43m(\u001b[49m\u001b[43ms\u001b[49m\u001b[43m,\u001b[49m\u001b[43m \u001b[49m\u001b[43midx\u001b[49m\u001b[43m=\u001b[49m\u001b[43m_w\u001b[49m\u001b[43m(\u001b[49m\u001b[43ms\u001b[49m\u001b[43m,\u001b[49m\u001b[43m \u001b[49m\u001b[32;43m0\u001b[39;49m\u001b[43m)\u001b[49m\u001b[43m.\u001b[49m\u001b[43mend\u001b[49m\u001b[43m(\u001b[49m\u001b[43m)\u001b[49m\u001b[43m)\u001b[49m\n\u001b[32m    338\u001b[39m end = _w(s, end).end()\n",
      "\u001b[36mFile \u001b[39m\u001b[32m~\\AppData\\Roaming\\uv\\python\\cpython-3.11.13-windows-x86_64-none\\Lib\\json\\decoder.py:355\u001b[39m, in \u001b[36mJSONDecoder.raw_decode\u001b[39m\u001b[34m(self, s, idx)\u001b[39m\n\u001b[32m    354\u001b[39m \u001b[38;5;28;01mexcept\u001b[39;00m \u001b[38;5;167;01mStopIteration\u001b[39;00m \u001b[38;5;28;01mas\u001b[39;00m err:\n\u001b[32m--> \u001b[39m\u001b[32m355\u001b[39m     \u001b[38;5;28;01mraise\u001b[39;00m JSONDecodeError(\u001b[33m\"\u001b[39m\u001b[33mExpecting value\u001b[39m\u001b[33m\"\u001b[39m, s, err.value) \u001b[38;5;28;01mfrom\u001b[39;00m\u001b[38;5;250m \u001b[39m\u001b[38;5;28;01mNone\u001b[39;00m\n\u001b[32m    356\u001b[39m \u001b[38;5;28;01mreturn\u001b[39;00m obj, end\n",
      "\u001b[31mJSONDecodeError\u001b[39m: Expecting value: line 1 column 1 (char 0)",
      "\nDuring handling of the above exception, another exception occurred:\n",
      "\u001b[31mJSONDecodeError\u001b[39m                           Traceback (most recent call last)",
      "\u001b[36mCell\u001b[39m\u001b[36m \u001b[39m\u001b[32mIn[8]\u001b[39m\u001b[32m, line 2\u001b[39m\n\u001b[32m      1\u001b[39m \u001b[38;5;28mprint\u001b[39m(response.text)\n\u001b[32m----> \u001b[39m\u001b[32m2\u001b[39m \u001b[38;5;28mprint\u001b[39m(\u001b[43mresponse\u001b[49m\u001b[43m.\u001b[49m\u001b[43mjson\u001b[49m\u001b[43m(\u001b[49m\u001b[43m)\u001b[49m)\n",
      "\u001b[36mFile \u001b[39m\u001b[32mc:\\hospital\\.venv\\Lib\\site-packages\\requests\\models.py:973\u001b[39m, in \u001b[36mResponse.json\u001b[39m\u001b[34m(self, **kwargs)\u001b[39m\n\u001b[32m    971\u001b[39m             \u001b[38;5;28;01mpass\u001b[39;00m\n\u001b[32m    972\u001b[39m         \u001b[38;5;28;01mexcept\u001b[39;00m JSONDecodeError \u001b[38;5;28;01mas\u001b[39;00m e:\n\u001b[32m--> \u001b[39m\u001b[32m973\u001b[39m             \u001b[38;5;28;01mraise\u001b[39;00m RequestsJSONDecodeError(e.msg, e.doc, e.pos)\n\u001b[32m    975\u001b[39m \u001b[38;5;28;01mtry\u001b[39;00m:\n\u001b[32m    976\u001b[39m     \u001b[38;5;28;01mreturn\u001b[39;00m complexjson.loads(\u001b[38;5;28mself\u001b[39m.text, **kwargs)\n",
      "\u001b[31mJSONDecodeError\u001b[39m: Expecting value: line 1 column 1 (char 0)"
     ]
    }
   ],
   "source": [
    "print(response.text)\n",
    "print(response.json())"
   ]
  },
  {
   "cell_type": "code",
   "execution_count": null,
   "id": "0e8dd774",
   "metadata": {},
   "outputs": [
    {
     "name": "stdout",
     "output_type": "stream",
     "text": [
      "<?xml version=\"1.0\" encoding=\"UTF-8\" standalone=\"yes\"?><response><header><resultCode>00</resultCode><resultMsg>NORMAL SERVICE.</resultMsg></header><body><items><item><dutyName>연세대학교의과대학강남세브란스병원</dutyName><dutyTel3>02-2019-3333</dutyTel3><hpid>A1100015</hpid><hv10>Y</hv10><hv11>Y</hv11><hv28>1</hv28><hv29>1</hv29><hv30>2</hv30><hv34>5</hv34><hv41>4</hv41><hv42>Y</hv42><hv5>Y</hv5><hv6>7</hv6><hv7>Y</hv7><hvamyn>Y</hvamyn><hvangioayn>Y</hvangioayn><hvcrrtayn>Y</hvcrrtayn><hvctayn>Y</hvctayn><hvec>-1</hvec><hvecmoayn>Y</hvecmoayn><hvgc>131</hvgc><hvhypoayn>Y</hvhypoayn><hvicc>14</hvicc><hvidate>20250725222112</hvidate><hvincuayn>Y</hvincuayn><hvmriayn>Y</hvmriayn><hvncc>0</hvncc><hvoc>23</hvoc><hvoxyayn>N1</hvoxyayn><hvs01>15</hvs01><hvs02>2</hvs02><hvs03>1</hvs03><hvs04>2</hvs04><hvs08>28</hvs08><hvs12>12</hvs12><hvs15>8</hvs15><hvs17>29</hvs17><hvs22>23</hvs22><hvs25>5</hvs25><hvs26>1</hvs26><hvs27>4</hvs27><hvs28>3</hvs28><hvs29>6</hvs29><hvs30>47</hvs30><hvs31>10</hvs31><hvs32>23</hvs32><hvs33>6</hvs33><hvs34>3</hvs34><hvs35>5</hvs35><hvs38>690</hvs38><hvventiayn>Y</hvventiayn><hvventisoayn>Y</hvventisoayn><phpid>A1100015</phpid><rnum>1</rnum></item><item><dutyName>삼성서울병원</dutyName><dutyTel3>02-3410-2060</dutyTel3><hpid>A1100010</hpid><hv10>Y</hv10><hv11>Y</hv11><hv2>11</hv2><hv28>3</hv28><hv29>0</hv29><hv3>10</hv3><hv30>2</hv30><hv32>5</hv32><hv34>2</hv34><hv35>2</hv35><hv40>8</hv40><hv41>12</hv41><hv42>Y</hv42><hv5>Y</hv5><hv6>4</hv6><hv7>Y</hv7><hvamyn>Y</hvamyn><hvangioayn>Y</hvangioayn><hvccc>1</hvccc><hvcrrtayn>Y</hvcrrtayn><hvctayn>Y</hvctayn><hvec>-4</hvec><hvecmoayn>Y</hvecmoayn><hvgc>285</hvgc><hvhypoayn>Y</hvhypoayn><hvicc>2</hvicc><hvidate>20250725222225</hvidate><hvincuayn>Y</hvincuayn><hvmriayn>Y</hvmriayn><hvncc>7</hvncc><hvoc>52</hvoc><hvoxyayn>N1</hvoxyayn><hvs01>32</hvs01><hvs02>4</hvs02><hvs03>2</hvs03><hvs04>2</hvs04><hvs06>30</hvs06><hvs07>23</hvs07><hvs08>59</hvs08><hvs09>15</hvs09><hvs12>12</hvs12><hvs15>12</hvs15><hvs16>25</hvs16><hvs17>10</hvs17><hvs18>2</hvs18><hvs22>56</hvs22><hvs24>27</hvs24><hvs25>12</hvs25><hvs26>7</hvs26><hvs27>17</hvs27><hvs28>13</hvs28><hvs29>14</hvs29><hvs30>130</hvs30><hvs31>18</hvs31><hvs32>42</hvs32><hvs33>19</hvs33><hvs34>10</hvs34><hvs35>2</hvs35><hvs38>1532</hvs38><hvventiayn>Y</hvventiayn><hvventisoayn>Y</hvventisoayn><phpid>A1100010</phpid><rnum>2</rnum></item></items><numOfRows>10</numOfRows><pageNo>1</pageNo><totalCount>2</totalCount></body></response>\n"
     ]
    },
    {
     "ename": "JSONDecodeError",
     "evalue": "Expecting value: line 1 column 1 (char 0)",
     "output_type": "error",
     "traceback": [
      "\u001b[31m---------------------------------------------------------------------------\u001b[39m\n",
      "\u001b[31mJSONDecodeError\u001b[39m                           Traceback (most recent call last)\n",
      "\u001b[36mFile \u001b[39m\u001b[32mc:\\hospital\\.venv\\Lib\\site-packages\\requests\\models.py:965\u001b[39m, in \u001b[36mResponse.json\u001b[39m\u001b[34m(self, **kwargs)\u001b[39m\n",
      "\u001b[32m    964\u001b[39m \u001b[38;5;28;01mtry\u001b[39;00m:\n",
      "\u001b[32m--> \u001b[39m\u001b[32m965\u001b[39m     \u001b[38;5;28;01mreturn\u001b[39;00m \u001b[43mcomplexjson\u001b[49m\u001b[43m.\u001b[49m\u001b[43mloads\u001b[49m\u001b[43m(\u001b[49m\u001b[38;5;28;43mself\u001b[39;49m\u001b[43m.\u001b[49m\u001b[43mcontent\u001b[49m\u001b[43m.\u001b[49m\u001b[43mdecode\u001b[49m\u001b[43m(\u001b[49m\u001b[43mencoding\u001b[49m\u001b[43m)\u001b[49m\u001b[43m,\u001b[49m\u001b[43m \u001b[49m\u001b[43m*\u001b[49m\u001b[43m*\u001b[49m\u001b[43mkwargs\u001b[49m\u001b[43m)\u001b[49m\n",
      "\u001b[32m    966\u001b[39m \u001b[38;5;28;01mexcept\u001b[39;00m \u001b[38;5;167;01mUnicodeDecodeError\u001b[39;00m:\n",
      "\u001b[32m    967\u001b[39m     \u001b[38;5;66;03m# Wrong UTF codec detected; usually because it's not UTF-8\u001b[39;00m\n",
      "\u001b[32m    968\u001b[39m     \u001b[38;5;66;03m# but some other 8-bit codec.  This is an RFC violation,\u001b[39;00m\n",
      "\u001b[32m    969\u001b[39m     \u001b[38;5;66;03m# and the server didn't bother to tell us what codec *was*\u001b[39;00m\n",
      "\u001b[32m    970\u001b[39m     \u001b[38;5;66;03m# used.\u001b[39;00m\n",
      "\n",
      "\u001b[36mFile \u001b[39m\u001b[32m~\\AppData\\Roaming\\uv\\python\\cpython-3.11.13-windows-x86_64-none\\Lib\\json\\__init__.py:346\u001b[39m, in \u001b[36mloads\u001b[39m\u001b[34m(s, cls, object_hook, parse_float, parse_int, parse_constant, object_pairs_hook, **kw)\u001b[39m\n",
      "\u001b[32m    343\u001b[39m \u001b[38;5;28;01mif\u001b[39;00m (\u001b[38;5;28mcls\u001b[39m \u001b[38;5;129;01mis\u001b[39;00m \u001b[38;5;28;01mNone\u001b[39;00m \u001b[38;5;129;01mand\u001b[39;00m object_hook \u001b[38;5;129;01mis\u001b[39;00m \u001b[38;5;28;01mNone\u001b[39;00m \u001b[38;5;129;01mand\u001b[39;00m\n",
      "\u001b[32m    344\u001b[39m         parse_int \u001b[38;5;129;01mis\u001b[39;00m \u001b[38;5;28;01mNone\u001b[39;00m \u001b[38;5;129;01mand\u001b[39;00m parse_float \u001b[38;5;129;01mis\u001b[39;00m \u001b[38;5;28;01mNone\u001b[39;00m \u001b[38;5;129;01mand\u001b[39;00m\n",
      "\u001b[32m    345\u001b[39m         parse_constant \u001b[38;5;129;01mis\u001b[39;00m \u001b[38;5;28;01mNone\u001b[39;00m \u001b[38;5;129;01mand\u001b[39;00m object_pairs_hook \u001b[38;5;129;01mis\u001b[39;00m \u001b[38;5;28;01mNone\u001b[39;00m \u001b[38;5;129;01mand\u001b[39;00m \u001b[38;5;129;01mnot\u001b[39;00m kw):\n",
      "\u001b[32m--> \u001b[39m\u001b[32m346\u001b[39m     \u001b[38;5;28;01mreturn\u001b[39;00m \u001b[43m_default_decoder\u001b[49m\u001b[43m.\u001b[49m\u001b[43mdecode\u001b[49m\u001b[43m(\u001b[49m\u001b[43ms\u001b[49m\u001b[43m)\u001b[49m\n",
      "\u001b[32m    347\u001b[39m \u001b[38;5;28;01mif\u001b[39;00m \u001b[38;5;28mcls\u001b[39m \u001b[38;5;129;01mis\u001b[39;00m \u001b[38;5;28;01mNone\u001b[39;00m:\n",
      "\n",
      "\u001b[36mFile \u001b[39m\u001b[32m~\\AppData\\Roaming\\uv\\python\\cpython-3.11.13-windows-x86_64-none\\Lib\\json\\decoder.py:337\u001b[39m, in \u001b[36mJSONDecoder.decode\u001b[39m\u001b[34m(self, s, _w)\u001b[39m\n",
      "\u001b[32m    333\u001b[39m \u001b[38;5;250m\u001b[39m\u001b[33;03m\"\"\"Return the Python representation of ``s`` (a ``str`` instance\u001b[39;00m\n",
      "\u001b[32m    334\u001b[39m \u001b[33;03mcontaining a JSON document).\u001b[39;00m\n",
      "\u001b[32m    335\u001b[39m \n",
      "\u001b[32m    336\u001b[39m \u001b[33;03m\"\"\"\u001b[39;00m\n",
      "\u001b[32m--> \u001b[39m\u001b[32m337\u001b[39m obj, end = \u001b[38;5;28;43mself\u001b[39;49m\u001b[43m.\u001b[49m\u001b[43mraw_decode\u001b[49m\u001b[43m(\u001b[49m\u001b[43ms\u001b[49m\u001b[43m,\u001b[49m\u001b[43m \u001b[49m\u001b[43midx\u001b[49m\u001b[43m=\u001b[49m\u001b[43m_w\u001b[49m\u001b[43m(\u001b[49m\u001b[43ms\u001b[49m\u001b[43m,\u001b[49m\u001b[43m \u001b[49m\u001b[32;43m0\u001b[39;49m\u001b[43m)\u001b[49m\u001b[43m.\u001b[49m\u001b[43mend\u001b[49m\u001b[43m(\u001b[49m\u001b[43m)\u001b[49m\u001b[43m)\u001b[49m\n",
      "\u001b[32m    338\u001b[39m end = _w(s, end).end()\n",
      "\n",
      "\u001b[36mFile \u001b[39m\u001b[32m~\\AppData\\Roaming\\uv\\python\\cpython-3.11.13-windows-x86_64-none\\Lib\\json\\decoder.py:355\u001b[39m, in \u001b[36mJSONDecoder.raw_decode\u001b[39m\u001b[34m(self, s, idx)\u001b[39m\n",
      "\u001b[32m    354\u001b[39m \u001b[38;5;28;01mexcept\u001b[39;00m \u001b[38;5;167;01mStopIteration\u001b[39;00m \u001b[38;5;28;01mas\u001b[39;00m err:\n",
      "\u001b[32m--> \u001b[39m\u001b[32m355\u001b[39m     \u001b[38;5;28;01mraise\u001b[39;00m JSONDecodeError(\u001b[33m\"\u001b[39m\u001b[33mExpecting value\u001b[39m\u001b[33m\"\u001b[39m, s, err.value) \u001b[38;5;28;01mfrom\u001b[39;00m\u001b[38;5;250m \u001b[39m\u001b[38;5;28;01mNone\u001b[39;00m\n",
      "\u001b[32m    356\u001b[39m \u001b[38;5;28;01mreturn\u001b[39;00m obj, end\n",
      "\n",
      "\u001b[31mJSONDecodeError\u001b[39m: Expecting value: line 1 column 1 (char 0)\n",
      "\n",
      "During handling of the above exception, another exception occurred:\n",
      "\n",
      "\u001b[31mJSONDecodeError\u001b[39m                           Traceback (most recent call last)\n",
      "\u001b[36mCell\u001b[39m\u001b[36m \u001b[39m\u001b[32mIn[8]\u001b[39m\u001b[32m, line 2\u001b[39m\n",
      "\u001b[32m      1\u001b[39m \u001b[38;5;28mprint\u001b[39m(response.text)\n",
      "\u001b[32m----> \u001b[39m\u001b[32m2\u001b[39m \u001b[38;5;28mprint\u001b[39m(\u001b[43mresponse\u001b[49m\u001b[43m.\u001b[49m\u001b[43mjson\u001b[49m\u001b[43m(\u001b[49m\u001b[43m)\u001b[49m)\n",
      "\n",
      "\u001b[36mFile \u001b[39m\u001b[32mc:\\hospital\\.venv\\Lib\\site-packages\\requests\\models.py:973\u001b[39m, in \u001b[36mResponse.json\u001b[39m\u001b[34m(self, **kwargs)\u001b[39m\n",
      "\u001b[32m    971\u001b[39m             \u001b[38;5;28;01mpass\u001b[39;00m\n",
      "\u001b[32m    972\u001b[39m         \u001b[38;5;28;01mexcept\u001b[39;00m JSONDecodeError \u001b[38;5;28;01mas\u001b[39;00m e:\n",
      "\u001b[32m--> \u001b[39m\u001b[32m973\u001b[39m             \u001b[38;5;28;01mraise\u001b[39;00m RequestsJSONDecodeError(e.msg, e.doc, e.pos)\n",
      "\u001b[32m    975\u001b[39m \u001b[38;5;28;01mtry\u001b[39;00m:\n",
      "\u001b[32m    976\u001b[39m     \u001b[38;5;28;01mreturn\u001b[39;00m complexjson.loads(\u001b[38;5;28mself\u001b[39m.text, **kwargs)\n",
      "\n",
      "\u001b[31mJSONDecodeError\u001b[39m: Expecting value: line 1 column 1 (char 0)"
     ]
    }
   ],
   "source": [
    "print(response.text)\n",
    "print(response.json())"
   ]
  },
  {
   "cell_type": "code",
   "execution_count": null,
   "id": "187a7124",
   "metadata": {},
   "outputs": [
    {
     "name": "stdout",
     "output_type": "stream",
     "text": [
      "<?xml version=\"1.0\" encoding=\"UTF-8\" standalone=\"yes\"?><response><header><resultCode>00</resultCode><resultMsg>NORMAL SERVICE.</resultMsg></header><body><items><item><dutyName>연세대학교의과대학강남세브란스병원</dutyName><dutyTel3>02-2019-3333</dutyTel3><hpid>A1100015</hpid><hv10>Y</hv10><hv11>Y</hv11><hv28>1</hv28><hv29>1</hv29><hv30>2</hv30><hv34>5</hv34><hv41>4</hv41><hv42>Y</hv42><hv5>Y</hv5><hv6>7</hv6><hv7>Y</hv7><hvamyn>Y</hvamyn><hvangioayn>Y</hvangioayn><hvcrrtayn>Y</hvcrrtayn><hvctayn>Y</hvctayn><hvec>-1</hvec><hvecmoayn>Y</hvecmoayn><hvgc>131</hvgc><hvhypoayn>Y</hvhypoayn><hvicc>14</hvicc><hvidate>20250725222112</hvidate><hvincuayn>Y</hvincuayn><hvmriayn>Y</hvmriayn><hvncc>0</hvncc><hvoc>23</hvoc><hvoxyayn>N1</hvoxyayn><hvs01>15</hvs01><hvs02>2</hvs02><hvs03>1</hvs03><hvs04>2</hvs04><hvs08>28</hvs08><hvs12>12</hvs12><hvs15>8</hvs15><hvs17>29</hvs17><hvs22>23</hvs22><hvs25>5</hvs25><hvs26>1</hvs26><hvs27>4</hvs27><hvs28>3</hvs28><hvs29>6</hvs29><hvs30>47</hvs30><hvs31>10</hvs31><hvs32>23</hvs32><hvs33>6</hvs33><hvs34>3</hvs34><hvs35>5</hvs35><hvs38>690</hvs38><hvventiayn>Y</hvventiayn><hvventisoayn>Y</hvventisoayn><phpid>A1100015</phpid><rnum>1</rnum></item><item><dutyName>삼성서울병원</dutyName><dutyTel3>02-3410-2060</dutyTel3><hpid>A1100010</hpid><hv10>Y</hv10><hv11>Y</hv11><hv2>11</hv2><hv28>3</hv28><hv29>0</hv29><hv3>10</hv3><hv30>2</hv30><hv32>5</hv32><hv34>2</hv34><hv35>2</hv35><hv40>8</hv40><hv41>12</hv41><hv42>Y</hv42><hv5>Y</hv5><hv6>4</hv6><hv7>Y</hv7><hvamyn>Y</hvamyn><hvangioayn>Y</hvangioayn><hvccc>1</hvccc><hvcrrtayn>Y</hvcrrtayn><hvctayn>Y</hvctayn><hvec>-4</hvec><hvecmoayn>Y</hvecmoayn><hvgc>285</hvgc><hvhypoayn>Y</hvhypoayn><hvicc>2</hvicc><hvidate>20250725222225</hvidate><hvincuayn>Y</hvincuayn><hvmriayn>Y</hvmriayn><hvncc>7</hvncc><hvoc>52</hvoc><hvoxyayn>N1</hvoxyayn><hvs01>32</hvs01><hvs02>4</hvs02><hvs03>2</hvs03><hvs04>2</hvs04><hvs06>30</hvs06><hvs07>23</hvs07><hvs08>59</hvs08><hvs09>15</hvs09><hvs12>12</hvs12><hvs15>12</hvs15><hvs16>25</hvs16><hvs17>10</hvs17><hvs18>2</hvs18><hvs22>56</hvs22><hvs24>27</hvs24><hvs25>12</hvs25><hvs26>7</hvs26><hvs27>17</hvs27><hvs28>13</hvs28><hvs29>14</hvs29><hvs30>130</hvs30><hvs31>18</hvs31><hvs32>42</hvs32><hvs33>19</hvs33><hvs34>10</hvs34><hvs35>2</hvs35><hvs38>1532</hvs38><hvventiayn>Y</hvventiayn><hvventisoayn>Y</hvventisoayn><phpid>A1100010</phpid><rnum>2</rnum></item></items><numOfRows>10</numOfRows><pageNo>1</pageNo><totalCount>2</totalCount></body></response>\n"
     ]
    },
    {
     "ename": "JSONDecodeError",
     "evalue": "Expecting value: line 1 column 1 (char 0)",
     "output_type": "error",
     "traceback": [
      "\u001b[31m---------------------------------------------------------------------------\u001b[39m\n",
      "\u001b[31mJSONDecodeError\u001b[39m                           Traceback (most recent call last)\n",
      "\u001b[36mFile \u001b[39m\u001b[32mc:\\hospital\\.venv\\Lib\\site-packages\\requests\\models.py:965\u001b[39m, in \u001b[36mResponse.json\u001b[39m\u001b[34m(self, **kwargs)\u001b[39m\n",
      "\u001b[32m    964\u001b[39m \u001b[38;5;28;01mtry\u001b[39;00m:\n",
      "\u001b[32m--> \u001b[39m\u001b[32m965\u001b[39m     \u001b[38;5;28;01mreturn\u001b[39;00m \u001b[43mcomplexjson\u001b[49m\u001b[43m.\u001b[49m\u001b[43mloads\u001b[49m\u001b[43m(\u001b[49m\u001b[38;5;28;43mself\u001b[39;49m\u001b[43m.\u001b[49m\u001b[43mcontent\u001b[49m\u001b[43m.\u001b[49m\u001b[43mdecode\u001b[49m\u001b[43m(\u001b[49m\u001b[43mencoding\u001b[49m\u001b[43m)\u001b[49m\u001b[43m,\u001b[49m\u001b[43m \u001b[49m\u001b[43m*\u001b[49m\u001b[43m*\u001b[49m\u001b[43mkwargs\u001b[49m\u001b[43m)\u001b[49m\n",
      "\u001b[32m    966\u001b[39m \u001b[38;5;28;01mexcept\u001b[39;00m \u001b[38;5;167;01mUnicodeDecodeError\u001b[39;00m:\n",
      "\u001b[32m    967\u001b[39m     \u001b[38;5;66;03m# Wrong UTF codec detected; usually because it's not UTF-8\u001b[39;00m\n",
      "\u001b[32m    968\u001b[39m     \u001b[38;5;66;03m# but some other 8-bit codec.  This is an RFC violation,\u001b[39;00m\n",
      "\u001b[32m    969\u001b[39m     \u001b[38;5;66;03m# and the server didn't bother to tell us what codec *was*\u001b[39;00m\n",
      "\u001b[32m    970\u001b[39m     \u001b[38;5;66;03m# used.\u001b[39;00m\n",
      "\n",
      "\u001b[36mFile \u001b[39m\u001b[32m~\\AppData\\Roaming\\uv\\python\\cpython-3.11.13-windows-x86_64-none\\Lib\\json\\__init__.py:346\u001b[39m, in \u001b[36mloads\u001b[39m\u001b[34m(s, cls, object_hook, parse_float, parse_int, parse_constant, object_pairs_hook, **kw)\u001b[39m\n",
      "\u001b[32m    343\u001b[39m \u001b[38;5;28;01mif\u001b[39;00m (\u001b[38;5;28mcls\u001b[39m \u001b[38;5;129;01mis\u001b[39;00m \u001b[38;5;28;01mNone\u001b[39;00m \u001b[38;5;129;01mand\u001b[39;00m object_hook \u001b[38;5;129;01mis\u001b[39;00m \u001b[38;5;28;01mNone\u001b[39;00m \u001b[38;5;129;01mand\u001b[39;00m\n",
      "\u001b[32m    344\u001b[39m         parse_int \u001b[38;5;129;01mis\u001b[39;00m \u001b[38;5;28;01mNone\u001b[39;00m \u001b[38;5;129;01mand\u001b[39;00m parse_float \u001b[38;5;129;01mis\u001b[39;00m \u001b[38;5;28;01mNone\u001b[39;00m \u001b[38;5;129;01mand\u001b[39;00m\n",
      "\u001b[32m    345\u001b[39m         parse_constant \u001b[38;5;129;01mis\u001b[39;00m \u001b[38;5;28;01mNone\u001b[39;00m \u001b[38;5;129;01mand\u001b[39;00m object_pairs_hook \u001b[38;5;129;01mis\u001b[39;00m \u001b[38;5;28;01mNone\u001b[39;00m \u001b[38;5;129;01mand\u001b[39;00m \u001b[38;5;129;01mnot\u001b[39;00m kw):\n",
      "\u001b[32m--> \u001b[39m\u001b[32m346\u001b[39m     \u001b[38;5;28;01mreturn\u001b[39;00m \u001b[43m_default_decoder\u001b[49m\u001b[43m.\u001b[49m\u001b[43mdecode\u001b[49m\u001b[43m(\u001b[49m\u001b[43ms\u001b[49m\u001b[43m)\u001b[49m\n",
      "\u001b[32m    347\u001b[39m \u001b[38;5;28;01mif\u001b[39;00m \u001b[38;5;28mcls\u001b[39m \u001b[38;5;129;01mis\u001b[39;00m \u001b[38;5;28;01mNone\u001b[39;00m:\n",
      "\n",
      "\u001b[36mFile \u001b[39m\u001b[32m~\\AppData\\Roaming\\uv\\python\\cpython-3.11.13-windows-x86_64-none\\Lib\\json\\decoder.py:337\u001b[39m, in \u001b[36mJSONDecoder.decode\u001b[39m\u001b[34m(self, s, _w)\u001b[39m\n",
      "\u001b[32m    333\u001b[39m \u001b[38;5;250m\u001b[39m\u001b[33;03m\"\"\"Return the Python representation of ``s`` (a ``str`` instance\u001b[39;00m\n",
      "\u001b[32m    334\u001b[39m \u001b[33;03mcontaining a JSON document).\u001b[39;00m\n",
      "\u001b[32m    335\u001b[39m \n",
      "\u001b[32m    336\u001b[39m \u001b[33;03m\"\"\"\u001b[39;00m\n",
      "\u001b[32m--> \u001b[39m\u001b[32m337\u001b[39m obj, end = \u001b[38;5;28;43mself\u001b[39;49m\u001b[43m.\u001b[49m\u001b[43mraw_decode\u001b[49m\u001b[43m(\u001b[49m\u001b[43ms\u001b[49m\u001b[43m,\u001b[49m\u001b[43m \u001b[49m\u001b[43midx\u001b[49m\u001b[43m=\u001b[49m\u001b[43m_w\u001b[49m\u001b[43m(\u001b[49m\u001b[43ms\u001b[49m\u001b[43m,\u001b[49m\u001b[43m \u001b[49m\u001b[32;43m0\u001b[39;49m\u001b[43m)\u001b[49m\u001b[43m.\u001b[49m\u001b[43mend\u001b[49m\u001b[43m(\u001b[49m\u001b[43m)\u001b[49m\u001b[43m)\u001b[49m\n",
      "\u001b[32m    338\u001b[39m end = _w(s, end).end()\n",
      "\n",
      "\u001b[36mFile \u001b[39m\u001b[32m~\\AppData\\Roaming\\uv\\python\\cpython-3.11.13-windows-x86_64-none\\Lib\\json\\decoder.py:355\u001b[39m, in \u001b[36mJSONDecoder.raw_decode\u001b[39m\u001b[34m(self, s, idx)\u001b[39m\n",
      "\u001b[32m    354\u001b[39m \u001b[38;5;28;01mexcept\u001b[39;00m \u001b[38;5;167;01mStopIteration\u001b[39;00m \u001b[38;5;28;01mas\u001b[39;00m err:\n",
      "\u001b[32m--> \u001b[39m\u001b[32m355\u001b[39m     \u001b[38;5;28;01mraise\u001b[39;00m JSONDecodeError(\u001b[33m\"\u001b[39m\u001b[33mExpecting value\u001b[39m\u001b[33m\"\u001b[39m, s, err.value) \u001b[38;5;28;01mfrom\u001b[39;00m\u001b[38;5;250m \u001b[39m\u001b[38;5;28;01mNone\u001b[39;00m\n",
      "\u001b[32m    356\u001b[39m \u001b[38;5;28;01mreturn\u001b[39;00m obj, end\n",
      "\n",
      "\u001b[31mJSONDecodeError\u001b[39m: Expecting value: line 1 column 1 (char 0)\n",
      "\n",
      "During handling of the above exception, another exception occurred:\n",
      "\n",
      "\u001b[31mJSONDecodeError\u001b[39m                           Traceback (most recent call last)\n",
      "\u001b[36mCell\u001b[39m\u001b[36m \u001b[39m\u001b[32mIn[8]\u001b[39m\u001b[32m, line 2\u001b[39m\n",
      "\u001b[32m      1\u001b[39m \u001b[38;5;28mprint\u001b[39m(response.text)\n",
      "\u001b[32m----> \u001b[39m\u001b[32m2\u001b[39m \u001b[38;5;28mprint\u001b[39m(\u001b[43mresponse\u001b[49m\u001b[43m.\u001b[49m\u001b[43mjson\u001b[49m\u001b[43m(\u001b[49m\u001b[43m)\u001b[49m)\n",
      "\n",
      "\u001b[36mFile \u001b[39m\u001b[32mc:\\hospital\\.venv\\Lib\\site-packages\\requests\\models.py:973\u001b[39m, in \u001b[36mResponse.json\u001b[39m\u001b[34m(self, **kwargs)\u001b[39m\n",
      "\u001b[32m    971\u001b[39m             \u001b[38;5;28;01mpass\u001b[39;00m\n",
      "\u001b[32m    972\u001b[39m         \u001b[38;5;28;01mexcept\u001b[39;00m JSONDecodeError \u001b[38;5;28;01mas\u001b[39;00m e:\n",
      "\u001b[32m--> \u001b[39m\u001b[32m973\u001b[39m             \u001b[38;5;28;01mraise\u001b[39;00m RequestsJSONDecodeError(e.msg, e.doc, e.pos)\n",
      "\u001b[32m    975\u001b[39m \u001b[38;5;28;01mtry\u001b[39;00m:\n",
      "\u001b[32m    976\u001b[39m     \u001b[38;5;28;01mreturn\u001b[39;00m complexjson.loads(\u001b[38;5;28mself\u001b[39m.text, **kwargs)\n",
      "\n",
      "\u001b[31mJSONDecodeError\u001b[39m: Expecting value: line 1 column 1 (char 0)"
     ]
    }
   ],
   "source": [
    "print(response.text)\n",
    "print(response.json())"
   ]
  },
  {
   "cell_type": "code",
   "execution_count": null,
   "id": "c1a0adac",
   "metadata": {},
   "outputs": [
    {
     "name": "stdout",
     "output_type": "stream",
     "text": [
      "<?xml version=\"1.0\" encoding=\"UTF-8\" standalone=\"yes\"?><response><header><resultCode>00</resultCode><resultMsg>NORMAL SERVICE.</resultMsg></header><body><items><item><dutyName>연세대학교의과대학강남세브란스병원</dutyName><dutyTel3>02-2019-3333</dutyTel3><hpid>A1100015</hpid><hv10>Y</hv10><hv11>Y</hv11><hv28>1</hv28><hv29>1</hv29><hv30>2</hv30><hv34>5</hv34><hv41>4</hv41><hv42>Y</hv42><hv5>Y</hv5><hv6>7</hv6><hv7>Y</hv7><hvamyn>Y</hvamyn><hvangioayn>Y</hvangioayn><hvcrrtayn>Y</hvcrrtayn><hvctayn>Y</hvctayn><hvec>-1</hvec><hvecmoayn>Y</hvecmoayn><hvgc>131</hvgc><hvhypoayn>Y</hvhypoayn><hvicc>14</hvicc><hvidate>20250725222112</hvidate><hvincuayn>Y</hvincuayn><hvmriayn>Y</hvmriayn><hvncc>0</hvncc><hvoc>23</hvoc><hvoxyayn>N1</hvoxyayn><hvs01>15</hvs01><hvs02>2</hvs02><hvs03>1</hvs03><hvs04>2</hvs04><hvs08>28</hvs08><hvs12>12</hvs12><hvs15>8</hvs15><hvs17>29</hvs17><hvs22>23</hvs22><hvs25>5</hvs25><hvs26>1</hvs26><hvs27>4</hvs27><hvs28>3</hvs28><hvs29>6</hvs29><hvs30>47</hvs30><hvs31>10</hvs31><hvs32>23</hvs32><hvs33>6</hvs33><hvs34>3</hvs34><hvs35>5</hvs35><hvs38>690</hvs38><hvventiayn>Y</hvventiayn><hvventisoayn>Y</hvventisoayn><phpid>A1100015</phpid><rnum>1</rnum></item><item><dutyName>삼성서울병원</dutyName><dutyTel3>02-3410-2060</dutyTel3><hpid>A1100010</hpid><hv10>Y</hv10><hv11>Y</hv11><hv2>11</hv2><hv28>3</hv28><hv29>0</hv29><hv3>10</hv3><hv30>2</hv30><hv32>5</hv32><hv34>2</hv34><hv35>2</hv35><hv40>8</hv40><hv41>12</hv41><hv42>Y</hv42><hv5>Y</hv5><hv6>4</hv6><hv7>Y</hv7><hvamyn>Y</hvamyn><hvangioayn>Y</hvangioayn><hvccc>1</hvccc><hvcrrtayn>Y</hvcrrtayn><hvctayn>Y</hvctayn><hvec>-4</hvec><hvecmoayn>Y</hvecmoayn><hvgc>285</hvgc><hvhypoayn>Y</hvhypoayn><hvicc>2</hvicc><hvidate>20250725222225</hvidate><hvincuayn>Y</hvincuayn><hvmriayn>Y</hvmriayn><hvncc>7</hvncc><hvoc>52</hvoc><hvoxyayn>N1</hvoxyayn><hvs01>32</hvs01><hvs02>4</hvs02><hvs03>2</hvs03><hvs04>2</hvs04><hvs06>30</hvs06><hvs07>23</hvs07><hvs08>59</hvs08><hvs09>15</hvs09><hvs12>12</hvs12><hvs15>12</hvs15><hvs16>25</hvs16><hvs17>10</hvs17><hvs18>2</hvs18><hvs22>56</hvs22><hvs24>27</hvs24><hvs25>12</hvs25><hvs26>7</hvs26><hvs27>17</hvs27><hvs28>13</hvs28><hvs29>14</hvs29><hvs30>130</hvs30><hvs31>18</hvs31><hvs32>42</hvs32><hvs33>19</hvs33><hvs34>10</hvs34><hvs35>2</hvs35><hvs38>1532</hvs38><hvventiayn>Y</hvventiayn><hvventisoayn>Y</hvventisoayn><phpid>A1100010</phpid><rnum>2</rnum></item></items><numOfRows>10</numOfRows><pageNo>1</pageNo><totalCount>2</totalCount></body></response>\n"
     ]
    },
    {
     "ename": "JSONDecodeError",
     "evalue": "Expecting value: line 1 column 1 (char 0)",
     "output_type": "error",
     "traceback": [
      "\u001b[31m---------------------------------------------------------------------------\u001b[39m\n",
      "\u001b[31mJSONDecodeError\u001b[39m                           Traceback (most recent call last)\n",
      "\u001b[36mFile \u001b[39m\u001b[32mc:\\hospital\\.venv\\Lib\\site-packages\\requests\\models.py:965\u001b[39m, in \u001b[36mResponse.json\u001b[39m\u001b[34m(self, **kwargs)\u001b[39m\n",
      "\u001b[32m    964\u001b[39m \u001b[38;5;28;01mtry\u001b[39;00m:\n",
      "\u001b[32m--> \u001b[39m\u001b[32m965\u001b[39m     \u001b[38;5;28;01mreturn\u001b[39;00m \u001b[43mcomplexjson\u001b[49m\u001b[43m.\u001b[49m\u001b[43mloads\u001b[49m\u001b[43m(\u001b[49m\u001b[38;5;28;43mself\u001b[39;49m\u001b[43m.\u001b[49m\u001b[43mcontent\u001b[49m\u001b[43m.\u001b[49m\u001b[43mdecode\u001b[49m\u001b[43m(\u001b[49m\u001b[43mencoding\u001b[49m\u001b[43m)\u001b[49m\u001b[43m,\u001b[49m\u001b[43m \u001b[49m\u001b[43m*\u001b[49m\u001b[43m*\u001b[49m\u001b[43mkwargs\u001b[49m\u001b[43m)\u001b[49m\n",
      "\u001b[32m    966\u001b[39m \u001b[38;5;28;01mexcept\u001b[39;00m \u001b[38;5;167;01mUnicodeDecodeError\u001b[39;00m:\n",
      "\u001b[32m    967\u001b[39m     \u001b[38;5;66;03m# Wrong UTF codec detected; usually because it's not UTF-8\u001b[39;00m\n",
      "\u001b[32m    968\u001b[39m     \u001b[38;5;66;03m# but some other 8-bit codec.  This is an RFC violation,\u001b[39;00m\n",
      "\u001b[32m    969\u001b[39m     \u001b[38;5;66;03m# and the server didn't bother to tell us what codec *was*\u001b[39;00m\n",
      "\u001b[32m    970\u001b[39m     \u001b[38;5;66;03m# used.\u001b[39;00m\n",
      "\n",
      "\u001b[36mFile \u001b[39m\u001b[32m~\\AppData\\Roaming\\uv\\python\\cpython-3.11.13-windows-x86_64-none\\Lib\\json\\__init__.py:346\u001b[39m, in \u001b[36mloads\u001b[39m\u001b[34m(s, cls, object_hook, parse_float, parse_int, parse_constant, object_pairs_hook, **kw)\u001b[39m\n",
      "\u001b[32m    343\u001b[39m \u001b[38;5;28;01mif\u001b[39;00m (\u001b[38;5;28mcls\u001b[39m \u001b[38;5;129;01mis\u001b[39;00m \u001b[38;5;28;01mNone\u001b[39;00m \u001b[38;5;129;01mand\u001b[39;00m object_hook \u001b[38;5;129;01mis\u001b[39;00m \u001b[38;5;28;01mNone\u001b[39;00m \u001b[38;5;129;01mand\u001b[39;00m\n",
      "\u001b[32m    344\u001b[39m         parse_int \u001b[38;5;129;01mis\u001b[39;00m \u001b[38;5;28;01mNone\u001b[39;00m \u001b[38;5;129;01mand\u001b[39;00m parse_float \u001b[38;5;129;01mis\u001b[39;00m \u001b[38;5;28;01mNone\u001b[39;00m \u001b[38;5;129;01mand\u001b[39;00m\n",
      "\u001b[32m    345\u001b[39m         parse_constant \u001b[38;5;129;01mis\u001b[39;00m \u001b[38;5;28;01mNone\u001b[39;00m \u001b[38;5;129;01mand\u001b[39;00m object_pairs_hook \u001b[38;5;129;01mis\u001b[39;00m \u001b[38;5;28;01mNone\u001b[39;00m \u001b[38;5;129;01mand\u001b[39;00m \u001b[38;5;129;01mnot\u001b[39;00m kw):\n",
      "\u001b[32m--> \u001b[39m\u001b[32m346\u001b[39m     \u001b[38;5;28;01mreturn\u001b[39;00m \u001b[43m_default_decoder\u001b[49m\u001b[43m.\u001b[49m\u001b[43mdecode\u001b[49m\u001b[43m(\u001b[49m\u001b[43ms\u001b[49m\u001b[43m)\u001b[49m\n",
      "\u001b[32m    347\u001b[39m \u001b[38;5;28;01mif\u001b[39;00m \u001b[38;5;28mcls\u001b[39m \u001b[38;5;129;01mis\u001b[39;00m \u001b[38;5;28;01mNone\u001b[39;00m:\n",
      "\n",
      "\u001b[36mFile \u001b[39m\u001b[32m~\\AppData\\Roaming\\uv\\python\\cpython-3.11.13-windows-x86_64-none\\Lib\\json\\decoder.py:337\u001b[39m, in \u001b[36mJSONDecoder.decode\u001b[39m\u001b[34m(self, s, _w)\u001b[39m\n",
      "\u001b[32m    333\u001b[39m \u001b[38;5;250m\u001b[39m\u001b[33;03m\"\"\"Return the Python representation of ``s`` (a ``str`` instance\u001b[39;00m\n",
      "\u001b[32m    334\u001b[39m \u001b[33;03mcontaining a JSON document).\u001b[39;00m\n",
      "\u001b[32m    335\u001b[39m \n",
      "\u001b[32m    336\u001b[39m \u001b[33;03m\"\"\"\u001b[39;00m\n",
      "\u001b[32m--> \u001b[39m\u001b[32m337\u001b[39m obj, end = \u001b[38;5;28;43mself\u001b[39;49m\u001b[43m.\u001b[49m\u001b[43mraw_decode\u001b[49m\u001b[43m(\u001b[49m\u001b[43ms\u001b[49m\u001b[43m,\u001b[49m\u001b[43m \u001b[49m\u001b[43midx\u001b[49m\u001b[43m=\u001b[49m\u001b[43m_w\u001b[49m\u001b[43m(\u001b[49m\u001b[43ms\u001b[49m\u001b[43m,\u001b[49m\u001b[43m \u001b[49m\u001b[32;43m0\u001b[39;49m\u001b[43m)\u001b[49m\u001b[43m.\u001b[49m\u001b[43mend\u001b[49m\u001b[43m(\u001b[49m\u001b[43m)\u001b[49m\u001b[43m)\u001b[49m\n",
      "\u001b[32m    338\u001b[39m end = _w(s, end).end()\n",
      "\n",
      "\u001b[36mFile \u001b[39m\u001b[32m~\\AppData\\Roaming\\uv\\python\\cpython-3.11.13-windows-x86_64-none\\Lib\\json\\decoder.py:355\u001b[39m, in \u001b[36mJSONDecoder.raw_decode\u001b[39m\u001b[34m(self, s, idx)\u001b[39m\n",
      "\u001b[32m    354\u001b[39m \u001b[38;5;28;01mexcept\u001b[39;00m \u001b[38;5;167;01mStopIteration\u001b[39;00m \u001b[38;5;28;01mas\u001b[39;00m err:\n",
      "\u001b[32m--> \u001b[39m\u001b[32m355\u001b[39m     \u001b[38;5;28;01mraise\u001b[39;00m JSONDecodeError(\u001b[33m\"\u001b[39m\u001b[33mExpecting value\u001b[39m\u001b[33m\"\u001b[39m, s, err.value) \u001b[38;5;28;01mfrom\u001b[39;00m\u001b[38;5;250m \u001b[39m\u001b[38;5;28;01mNone\u001b[39;00m\n",
      "\u001b[32m    356\u001b[39m \u001b[38;5;28;01mreturn\u001b[39;00m obj, end\n",
      "\n",
      "\u001b[31mJSONDecodeError\u001b[39m: Expecting value: line 1 column 1 (char 0)\n",
      "\n",
      "During handling of the above exception, another exception occurred:\n",
      "\n",
      "\u001b[31mJSONDecodeError\u001b[39m                           Traceback (most recent call last)\n",
      "\u001b[36mCell\u001b[39m\u001b[36m \u001b[39m\u001b[32mIn[8]\u001b[39m\u001b[32m, line 2\u001b[39m\n",
      "\u001b[32m      1\u001b[39m \u001b[38;5;28mprint\u001b[39m(response.text)\n",
      "\u001b[32m----> \u001b[39m\u001b[32m2\u001b[39m \u001b[38;5;28mprint\u001b[39m(\u001b[43mresponse\u001b[49m\u001b[43m.\u001b[49m\u001b[43mjson\u001b[49m\u001b[43m(\u001b[49m\u001b[43m)\u001b[49m)\n",
      "\n",
      "\u001b[36mFile \u001b[39m\u001b[32mc:\\hospital\\.venv\\Lib\\site-packages\\requests\\models.py:973\u001b[39m, in \u001b[36mResponse.json\u001b[39m\u001b[34m(self, **kwargs)\u001b[39m\n",
      "\u001b[32m    971\u001b[39m             \u001b[38;5;28;01mpass\u001b[39;00m\n",
      "\u001b[32m    972\u001b[39m         \u001b[38;5;28;01mexcept\u001b[39;00m JSONDecodeError \u001b[38;5;28;01mas\u001b[39;00m e:\n",
      "\u001b[32m--> \u001b[39m\u001b[32m973\u001b[39m             \u001b[38;5;28;01mraise\u001b[39;00m RequestsJSONDecodeError(e.msg, e.doc, e.pos)\n",
      "\u001b[32m    975\u001b[39m \u001b[38;5;28;01mtry\u001b[39;00m:\n",
      "\u001b[32m    976\u001b[39m     \u001b[38;5;28;01mreturn\u001b[39;00m complexjson.loads(\u001b[38;5;28mself\u001b[39m.text, **kwargs)\n",
      "\n",
      "\u001b[31mJSONDecodeError\u001b[39m: Expecting value: line 1 column 1 (char 0)"
     ]
    }
   ],
   "source": [
    "print(response.text)\n",
    "print(response.json())"
   ]
  },
  {
   "cell_type": "code",
   "execution_count": null,
   "id": "86aaf156",
   "metadata": {},
   "outputs": [
    {
     "name": "stdout",
     "output_type": "stream",
     "text": [
      "<?xml version=\"1.0\" encoding=\"UTF-8\" standalone=\"yes\"?><response><header><resultCode>00</resultCode><resultMsg>NORMAL SERVICE.</resultMsg></header><body><items><item><dutyName>연세대학교의과대학강남세브란스병원</dutyName><dutyTel3>02-2019-3333</dutyTel3><hpid>A1100015</hpid><hv10>Y</hv10><hv11>Y</hv11><hv28>1</hv28><hv29>1</hv29><hv30>2</hv30><hv34>5</hv34><hv41>4</hv41><hv42>Y</hv42><hv5>Y</hv5><hv6>7</hv6><hv7>Y</hv7><hvamyn>Y</hvamyn><hvangioayn>Y</hvangioayn><hvcrrtayn>Y</hvcrrtayn><hvctayn>Y</hvctayn><hvec>-1</hvec><hvecmoayn>Y</hvecmoayn><hvgc>131</hvgc><hvhypoayn>Y</hvhypoayn><hvicc>14</hvicc><hvidate>20250725222112</hvidate><hvincuayn>Y</hvincuayn><hvmriayn>Y</hvmriayn><hvncc>0</hvncc><hvoc>23</hvoc><hvoxyayn>N1</hvoxyayn><hvs01>15</hvs01><hvs02>2</hvs02><hvs03>1</hvs03><hvs04>2</hvs04><hvs08>28</hvs08><hvs12>12</hvs12><hvs15>8</hvs15><hvs17>29</hvs17><hvs22>23</hvs22><hvs25>5</hvs25><hvs26>1</hvs26><hvs27>4</hvs27><hvs28>3</hvs28><hvs29>6</hvs29><hvs30>47</hvs30><hvs31>10</hvs31><hvs32>23</hvs32><hvs33>6</hvs33><hvs34>3</hvs34><hvs35>5</hvs35><hvs38>690</hvs38><hvventiayn>Y</hvventiayn><hvventisoayn>Y</hvventisoayn><phpid>A1100015</phpid><rnum>1</rnum></item><item><dutyName>삼성서울병원</dutyName><dutyTel3>02-3410-2060</dutyTel3><hpid>A1100010</hpid><hv10>Y</hv10><hv11>Y</hv11><hv2>11</hv2><hv28>3</hv28><hv29>0</hv29><hv3>10</hv3><hv30>2</hv30><hv32>5</hv32><hv34>2</hv34><hv35>2</hv35><hv40>8</hv40><hv41>12</hv41><hv42>Y</hv42><hv5>Y</hv5><hv6>4</hv6><hv7>Y</hv7><hvamyn>Y</hvamyn><hvangioayn>Y</hvangioayn><hvccc>1</hvccc><hvcrrtayn>Y</hvcrrtayn><hvctayn>Y</hvctayn><hvec>-4</hvec><hvecmoayn>Y</hvecmoayn><hvgc>285</hvgc><hvhypoayn>Y</hvhypoayn><hvicc>2</hvicc><hvidate>20250725222225</hvidate><hvincuayn>Y</hvincuayn><hvmriayn>Y</hvmriayn><hvncc>7</hvncc><hvoc>52</hvoc><hvoxyayn>N1</hvoxyayn><hvs01>32</hvs01><hvs02>4</hvs02><hvs03>2</hvs03><hvs04>2</hvs04><hvs06>30</hvs06><hvs07>23</hvs07><hvs08>59</hvs08><hvs09>15</hvs09><hvs12>12</hvs12><hvs15>12</hvs15><hvs16>25</hvs16><hvs17>10</hvs17><hvs18>2</hvs18><hvs22>56</hvs22><hvs24>27</hvs24><hvs25>12</hvs25><hvs26>7</hvs26><hvs27>17</hvs27><hvs28>13</hvs28><hvs29>14</hvs29><hvs30>130</hvs30><hvs31>18</hvs31><hvs32>42</hvs32><hvs33>19</hvs33><hvs34>10</hvs34><hvs35>2</hvs35><hvs38>1532</hvs38><hvventiayn>Y</hvventiayn><hvventisoayn>Y</hvventisoayn><phpid>A1100010</phpid><rnum>2</rnum></item></items><numOfRows>10</numOfRows><pageNo>1</pageNo><totalCount>2</totalCount></body></response>\n"
     ]
    },
    {
     "ename": "JSONDecodeError",
     "evalue": "Expecting value: line 1 column 1 (char 0)",
     "output_type": "error",
     "traceback": [
      "\u001b[31m---------------------------------------------------------------------------\u001b[39m\n",
      "\u001b[31mJSONDecodeError\u001b[39m                           Traceback (most recent call last)\n",
      "\u001b[36mFile \u001b[39m\u001b[32mc:\\hospital\\.venv\\Lib\\site-packages\\requests\\models.py:965\u001b[39m, in \u001b[36mResponse.json\u001b[39m\u001b[34m(self, **kwargs)\u001b[39m\n",
      "\u001b[32m    964\u001b[39m \u001b[38;5;28;01mtry\u001b[39;00m:\n",
      "\u001b[32m--> \u001b[39m\u001b[32m965\u001b[39m     \u001b[38;5;28;01mreturn\u001b[39;00m \u001b[43mcomplexjson\u001b[49m\u001b[43m.\u001b[49m\u001b[43mloads\u001b[49m\u001b[43m(\u001b[49m\u001b[38;5;28;43mself\u001b[39;49m\u001b[43m.\u001b[49m\u001b[43mcontent\u001b[49m\u001b[43m.\u001b[49m\u001b[43mdecode\u001b[49m\u001b[43m(\u001b[49m\u001b[43mencoding\u001b[49m\u001b[43m)\u001b[49m\u001b[43m,\u001b[49m\u001b[43m \u001b[49m\u001b[43m*\u001b[49m\u001b[43m*\u001b[49m\u001b[43mkwargs\u001b[49m\u001b[43m)\u001b[49m\n",
      "\u001b[32m    966\u001b[39m \u001b[38;5;28;01mexcept\u001b[39;00m \u001b[38;5;167;01mUnicodeDecodeError\u001b[39;00m:\n",
      "\u001b[32m    967\u001b[39m     \u001b[38;5;66;03m# Wrong UTF codec detected; usually because it's not UTF-8\u001b[39;00m\n",
      "\u001b[32m    968\u001b[39m     \u001b[38;5;66;03m# but some other 8-bit codec.  This is an RFC violation,\u001b[39;00m\n",
      "\u001b[32m    969\u001b[39m     \u001b[38;5;66;03m# and the server didn't bother to tell us what codec *was*\u001b[39;00m\n",
      "\u001b[32m    970\u001b[39m     \u001b[38;5;66;03m# used.\u001b[39;00m\n",
      "\n",
      "\u001b[36mFile \u001b[39m\u001b[32m~\\AppData\\Roaming\\uv\\python\\cpython-3.11.13-windows-x86_64-none\\Lib\\json\\__init__.py:346\u001b[39m, in \u001b[36mloads\u001b[39m\u001b[34m(s, cls, object_hook, parse_float, parse_int, parse_constant, object_pairs_hook, **kw)\u001b[39m\n",
      "\u001b[32m    343\u001b[39m \u001b[38;5;28;01mif\u001b[39;00m (\u001b[38;5;28mcls\u001b[39m \u001b[38;5;129;01mis\u001b[39;00m \u001b[38;5;28;01mNone\u001b[39;00m \u001b[38;5;129;01mand\u001b[39;00m object_hook \u001b[38;5;129;01mis\u001b[39;00m \u001b[38;5;28;01mNone\u001b[39;00m \u001b[38;5;129;01mand\u001b[39;00m\n",
      "\u001b[32m    344\u001b[39m         parse_int \u001b[38;5;129;01mis\u001b[39;00m \u001b[38;5;28;01mNone\u001b[39;00m \u001b[38;5;129;01mand\u001b[39;00m parse_float \u001b[38;5;129;01mis\u001b[39;00m \u001b[38;5;28;01mNone\u001b[39;00m \u001b[38;5;129;01mand\u001b[39;00m\n",
      "\u001b[32m    345\u001b[39m         parse_constant \u001b[38;5;129;01mis\u001b[39;00m \u001b[38;5;28;01mNone\u001b[39;00m \u001b[38;5;129;01mand\u001b[39;00m object_pairs_hook \u001b[38;5;129;01mis\u001b[39;00m \u001b[38;5;28;01mNone\u001b[39;00m \u001b[38;5;129;01mand\u001b[39;00m \u001b[38;5;129;01mnot\u001b[39;00m kw):\n",
      "\u001b[32m--> \u001b[39m\u001b[32m346\u001b[39m     \u001b[38;5;28;01mreturn\u001b[39;00m \u001b[43m_default_decoder\u001b[49m\u001b[43m.\u001b[49m\u001b[43mdecode\u001b[49m\u001b[43m(\u001b[49m\u001b[43ms\u001b[49m\u001b[43m)\u001b[49m\n",
      "\u001b[32m    347\u001b[39m \u001b[38;5;28;01mif\u001b[39;00m \u001b[38;5;28mcls\u001b[39m \u001b[38;5;129;01mis\u001b[39;00m \u001b[38;5;28;01mNone\u001b[39;00m:\n",
      "\n",
      "\u001b[36mFile \u001b[39m\u001b[32m~\\AppData\\Roaming\\uv\\python\\cpython-3.11.13-windows-x86_64-none\\Lib\\json\\decoder.py:337\u001b[39m, in \u001b[36mJSONDecoder.decode\u001b[39m\u001b[34m(self, s, _w)\u001b[39m\n",
      "\u001b[32m    333\u001b[39m \u001b[38;5;250m\u001b[39m\u001b[33;03m\"\"\"Return the Python representation of ``s`` (a ``str`` instance\u001b[39;00m\n",
      "\u001b[32m    334\u001b[39m \u001b[33;03mcontaining a JSON document).\u001b[39;00m\n",
      "\u001b[32m    335\u001b[39m \n",
      "\u001b[32m    336\u001b[39m \u001b[33;03m\"\"\"\u001b[39;00m\n",
      "\u001b[32m--> \u001b[39m\u001b[32m337\u001b[39m obj, end = \u001b[38;5;28;43mself\u001b[39;49m\u001b[43m.\u001b[49m\u001b[43mraw_decode\u001b[49m\u001b[43m(\u001b[49m\u001b[43ms\u001b[49m\u001b[43m,\u001b[49m\u001b[43m \u001b[49m\u001b[43midx\u001b[49m\u001b[43m=\u001b[49m\u001b[43m_w\u001b[49m\u001b[43m(\u001b[49m\u001b[43ms\u001b[49m\u001b[43m,\u001b[49m\u001b[43m \u001b[49m\u001b[32;43m0\u001b[39;49m\u001b[43m)\u001b[49m\u001b[43m.\u001b[49m\u001b[43mend\u001b[49m\u001b[43m(\u001b[49m\u001b[43m)\u001b[49m\u001b[43m)\u001b[49m\n",
      "\u001b[32m    338\u001b[39m end = _w(s, end).end()\n",
      "\n",
      "\u001b[36mFile \u001b[39m\u001b[32m~\\AppData\\Roaming\\uv\\python\\cpython-3.11.13-windows-x86_64-none\\Lib\\json\\decoder.py:355\u001b[39m, in \u001b[36mJSONDecoder.raw_decode\u001b[39m\u001b[34m(self, s, idx)\u001b[39m\n",
      "\u001b[32m    354\u001b[39m \u001b[38;5;28;01mexcept\u001b[39;00m \u001b[38;5;167;01mStopIteration\u001b[39;00m \u001b[38;5;28;01mas\u001b[39;00m err:\n",
      "\u001b[32m--> \u001b[39m\u001b[32m355\u001b[39m     \u001b[38;5;28;01mraise\u001b[39;00m JSONDecodeError(\u001b[33m\"\u001b[39m\u001b[33mExpecting value\u001b[39m\u001b[33m\"\u001b[39m, s, err.value) \u001b[38;5;28;01mfrom\u001b[39;00m\u001b[38;5;250m \u001b[39m\u001b[38;5;28;01mNone\u001b[39;00m\n",
      "\u001b[32m    356\u001b[39m \u001b[38;5;28;01mreturn\u001b[39;00m obj, end\n",
      "\n",
      "\u001b[31mJSONDecodeError\u001b[39m: Expecting value: line 1 column 1 (char 0)\n",
      "\n",
      "During handling of the above exception, another exception occurred:\n",
      "\n",
      "\u001b[31mJSONDecodeError\u001b[39m                           Traceback (most recent call last)\n",
      "\u001b[36mCell\u001b[39m\u001b[36m \u001b[39m\u001b[32mIn[8]\u001b[39m\u001b[32m, line 2\u001b[39m\n",
      "\u001b[32m      1\u001b[39m \u001b[38;5;28mprint\u001b[39m(response.text)\n",
      "\u001b[32m----> \u001b[39m\u001b[32m2\u001b[39m \u001b[38;5;28mprint\u001b[39m(\u001b[43mresponse\u001b[49m\u001b[43m.\u001b[49m\u001b[43mjson\u001b[49m\u001b[43m(\u001b[49m\u001b[43m)\u001b[49m)\n",
      "\n",
      "\u001b[36mFile \u001b[39m\u001b[32mc:\\hospital\\.venv\\Lib\\site-packages\\requests\\models.py:973\u001b[39m, in \u001b[36mResponse.json\u001b[39m\u001b[34m(self, **kwargs)\u001b[39m\n",
      "\u001b[32m    971\u001b[39m             \u001b[38;5;28;01mpass\u001b[39;00m\n",
      "\u001b[32m    972\u001b[39m         \u001b[38;5;28;01mexcept\u001b[39;00m JSONDecodeError \u001b[38;5;28;01mas\u001b[39;00m e:\n",
      "\u001b[32m--> \u001b[39m\u001b[32m973\u001b[39m             \u001b[38;5;28;01mraise\u001b[39;00m RequestsJSONDecodeError(e.msg, e.doc, e.pos)\n",
      "\u001b[32m    975\u001b[39m \u001b[38;5;28;01mtry\u001b[39;00m:\n",
      "\u001b[32m    976\u001b[39m     \u001b[38;5;28;01mreturn\u001b[39;00m complexjson.loads(\u001b[38;5;28mself\u001b[39m.text, **kwargs)\n",
      "\n",
      "\u001b[31mJSONDecodeError\u001b[39m: Expecting value: line 1 column 1 (char 0)"
     ]
    }
   ],
   "source": [
    "print(response.text)\n",
    "print(response.json())"
   ]
  },
  {
   "cell_type": "code",
   "execution_count": null,
   "id": "48b5e409",
   "metadata": {},
   "outputs": [
    {
     "name": "stdout",
     "output_type": "stream",
     "text": [
      "<?xml version=\"1.0\" encoding=\"UTF-8\" standalone=\"yes\"?><response><header><resultCode>00</resultCode><resultMsg>NORMAL SERVICE.</resultMsg></header><body><items><item><dutyName>연세대학교의과대학강남세브란스병원</dutyName><dutyTel3>02-2019-3333</dutyTel3><hpid>A1100015</hpid><hv10>Y</hv10><hv11>Y</hv11><hv28>1</hv28><hv29>1</hv29><hv30>2</hv30><hv34>5</hv34><hv41>4</hv41><hv42>Y</hv42><hv5>Y</hv5><hv6>7</hv6><hv7>Y</hv7><hvamyn>Y</hvamyn><hvangioayn>Y</hvangioayn><hvcrrtayn>Y</hvcrrtayn><hvctayn>Y</hvctayn><hvec>-1</hvec><hvecmoayn>Y</hvecmoayn><hvgc>131</hvgc><hvhypoayn>Y</hvhypoayn><hvicc>14</hvicc><hvidate>20250725222112</hvidate><hvincuayn>Y</hvincuayn><hvmriayn>Y</hvmriayn><hvncc>0</hvncc><hvoc>23</hvoc><hvoxyayn>N1</hvoxyayn><hvs01>15</hvs01><hvs02>2</hvs02><hvs03>1</hvs03><hvs04>2</hvs04><hvs08>28</hvs08><hvs12>12</hvs12><hvs15>8</hvs15><hvs17>29</hvs17><hvs22>23</hvs22><hvs25>5</hvs25><hvs26>1</hvs26><hvs27>4</hvs27><hvs28>3</hvs28><hvs29>6</hvs29><hvs30>47</hvs30><hvs31>10</hvs31><hvs32>23</hvs32><hvs33>6</hvs33><hvs34>3</hvs34><hvs35>5</hvs35><hvs38>690</hvs38><hvventiayn>Y</hvventiayn><hvventisoayn>Y</hvventisoayn><phpid>A1100015</phpid><rnum>1</rnum></item><item><dutyName>삼성서울병원</dutyName><dutyTel3>02-3410-2060</dutyTel3><hpid>A1100010</hpid><hv10>Y</hv10><hv11>Y</hv11><hv2>11</hv2><hv28>3</hv28><hv29>0</hv29><hv3>10</hv3><hv30>2</hv30><hv32>5</hv32><hv34>2</hv34><hv35>2</hv35><hv40>8</hv40><hv41>12</hv41><hv42>Y</hv42><hv5>Y</hv5><hv6>4</hv6><hv7>Y</hv7><hvamyn>Y</hvamyn><hvangioayn>Y</hvangioayn><hvccc>1</hvccc><hvcrrtayn>Y</hvcrrtayn><hvctayn>Y</hvctayn><hvec>-4</hvec><hvecmoayn>Y</hvecmoayn><hvgc>285</hvgc><hvhypoayn>Y</hvhypoayn><hvicc>2</hvicc><hvidate>20250725222225</hvidate><hvincuayn>Y</hvincuayn><hvmriayn>Y</hvmriayn><hvncc>7</hvncc><hvoc>52</hvoc><hvoxyayn>N1</hvoxyayn><hvs01>32</hvs01><hvs02>4</hvs02><hvs03>2</hvs03><hvs04>2</hvs04><hvs06>30</hvs06><hvs07>23</hvs07><hvs08>59</hvs08><hvs09>15</hvs09><hvs12>12</hvs12><hvs15>12</hvs15><hvs16>25</hvs16><hvs17>10</hvs17><hvs18>2</hvs18><hvs22>56</hvs22><hvs24>27</hvs24><hvs25>12</hvs25><hvs26>7</hvs26><hvs27>17</hvs27><hvs28>13</hvs28><hvs29>14</hvs29><hvs30>130</hvs30><hvs31>18</hvs31><hvs32>42</hvs32><hvs33>19</hvs33><hvs34>10</hvs34><hvs35>2</hvs35><hvs38>1532</hvs38><hvventiayn>Y</hvventiayn><hvventisoayn>Y</hvventisoayn><phpid>A1100010</phpid><rnum>2</rnum></item></items><numOfRows>10</numOfRows><pageNo>1</pageNo><totalCount>2</totalCount></body></response>\n"
     ]
    },
    {
     "ename": "JSONDecodeError",
     "evalue": "Expecting value: line 1 column 1 (char 0)",
     "output_type": "error",
     "traceback": [
      "\u001b[31m---------------------------------------------------------------------------\u001b[39m\n",
      "\u001b[31mJSONDecodeError\u001b[39m                           Traceback (most recent call last)\n",
      "\u001b[36mFile \u001b[39m\u001b[32mc:\\hospital\\.venv\\Lib\\site-packages\\requests\\models.py:965\u001b[39m, in \u001b[36mResponse.json\u001b[39m\u001b[34m(self, **kwargs)\u001b[39m\n",
      "\u001b[32m    964\u001b[39m \u001b[38;5;28;01mtry\u001b[39;00m:\n",
      "\u001b[32m--> \u001b[39m\u001b[32m965\u001b[39m     \u001b[38;5;28;01mreturn\u001b[39;00m \u001b[43mcomplexjson\u001b[49m\u001b[43m.\u001b[49m\u001b[43mloads\u001b[49m\u001b[43m(\u001b[49m\u001b[38;5;28;43mself\u001b[39;49m\u001b[43m.\u001b[49m\u001b[43mcontent\u001b[49m\u001b[43m.\u001b[49m\u001b[43mdecode\u001b[49m\u001b[43m(\u001b[49m\u001b[43mencoding\u001b[49m\u001b[43m)\u001b[49m\u001b[43m,\u001b[49m\u001b[43m \u001b[49m\u001b[43m*\u001b[49m\u001b[43m*\u001b[49m\u001b[43mkwargs\u001b[49m\u001b[43m)\u001b[49m\n",
      "\u001b[32m    966\u001b[39m \u001b[38;5;28;01mexcept\u001b[39;00m \u001b[38;5;167;01mUnicodeDecodeError\u001b[39;00m:\n",
      "\u001b[32m    967\u001b[39m     \u001b[38;5;66;03m# Wrong UTF codec detected; usually because it's not UTF-8\u001b[39;00m\n",
      "\u001b[32m    968\u001b[39m     \u001b[38;5;66;03m# but some other 8-bit codec.  This is an RFC violation,\u001b[39;00m\n",
      "\u001b[32m    969\u001b[39m     \u001b[38;5;66;03m# and the server didn't bother to tell us what codec *was*\u001b[39;00m\n",
      "\u001b[32m    970\u001b[39m     \u001b[38;5;66;03m# used.\u001b[39;00m\n",
      "\n",
      "\u001b[36mFile \u001b[39m\u001b[32m~\\AppData\\Roaming\\uv\\python\\cpython-3.11.13-windows-x86_64-none\\Lib\\json\\__init__.py:346\u001b[39m, in \u001b[36mloads\u001b[39m\u001b[34m(s, cls, object_hook, parse_float, parse_int, parse_constant, object_pairs_hook, **kw)\u001b[39m\n",
      "\u001b[32m    343\u001b[39m \u001b[38;5;28;01mif\u001b[39;00m (\u001b[38;5;28mcls\u001b[39m \u001b[38;5;129;01mis\u001b[39;00m \u001b[38;5;28;01mNone\u001b[39;00m \u001b[38;5;129;01mand\u001b[39;00m object_hook \u001b[38;5;129;01mis\u001b[39;00m \u001b[38;5;28;01mNone\u001b[39;00m \u001b[38;5;129;01mand\u001b[39;00m\n",
      "\u001b[32m    344\u001b[39m         parse_int \u001b[38;5;129;01mis\u001b[39;00m \u001b[38;5;28;01mNone\u001b[39;00m \u001b[38;5;129;01mand\u001b[39;00m parse_float \u001b[38;5;129;01mis\u001b[39;00m \u001b[38;5;28;01mNone\u001b[39;00m \u001b[38;5;129;01mand\u001b[39;00m\n",
      "\u001b[32m    345\u001b[39m         parse_constant \u001b[38;5;129;01mis\u001b[39;00m \u001b[38;5;28;01mNone\u001b[39;00m \u001b[38;5;129;01mand\u001b[39;00m object_pairs_hook \u001b[38;5;129;01mis\u001b[39;00m \u001b[38;5;28;01mNone\u001b[39;00m \u001b[38;5;129;01mand\u001b[39;00m \u001b[38;5;129;01mnot\u001b[39;00m kw):\n",
      "\u001b[32m--> \u001b[39m\u001b[32m346\u001b[39m     \u001b[38;5;28;01mreturn\u001b[39;00m \u001b[43m_default_decoder\u001b[49m\u001b[43m.\u001b[49m\u001b[43mdecode\u001b[49m\u001b[43m(\u001b[49m\u001b[43ms\u001b[49m\u001b[43m)\u001b[49m\n",
      "\u001b[32m    347\u001b[39m \u001b[38;5;28;01mif\u001b[39;00m \u001b[38;5;28mcls\u001b[39m \u001b[38;5;129;01mis\u001b[39;00m \u001b[38;5;28;01mNone\u001b[39;00m:\n",
      "\n",
      "\u001b[36mFile \u001b[39m\u001b[32m~\\AppData\\Roaming\\uv\\python\\cpython-3.11.13-windows-x86_64-none\\Lib\\json\\decoder.py:337\u001b[39m, in \u001b[36mJSONDecoder.decode\u001b[39m\u001b[34m(self, s, _w)\u001b[39m\n",
      "\u001b[32m    333\u001b[39m \u001b[38;5;250m\u001b[39m\u001b[33;03m\"\"\"Return the Python representation of ``s`` (a ``str`` instance\u001b[39;00m\n",
      "\u001b[32m    334\u001b[39m \u001b[33;03mcontaining a JSON document).\u001b[39;00m\n",
      "\u001b[32m    335\u001b[39m \n",
      "\u001b[32m    336\u001b[39m \u001b[33;03m\"\"\"\u001b[39;00m\n",
      "\u001b[32m--> \u001b[39m\u001b[32m337\u001b[39m obj, end = \u001b[38;5;28;43mself\u001b[39;49m\u001b[43m.\u001b[49m\u001b[43mraw_decode\u001b[49m\u001b[43m(\u001b[49m\u001b[43ms\u001b[49m\u001b[43m,\u001b[49m\u001b[43m \u001b[49m\u001b[43midx\u001b[49m\u001b[43m=\u001b[49m\u001b[43m_w\u001b[49m\u001b[43m(\u001b[49m\u001b[43ms\u001b[49m\u001b[43m,\u001b[49m\u001b[43m \u001b[49m\u001b[32;43m0\u001b[39;49m\u001b[43m)\u001b[49m\u001b[43m.\u001b[49m\u001b[43mend\u001b[49m\u001b[43m(\u001b[49m\u001b[43m)\u001b[49m\u001b[43m)\u001b[49m\n",
      "\u001b[32m    338\u001b[39m end = _w(s, end).end()\n",
      "\n",
      "\u001b[36mFile \u001b[39m\u001b[32m~\\AppData\\Roaming\\uv\\python\\cpython-3.11.13-windows-x86_64-none\\Lib\\json\\decoder.py:355\u001b[39m, in \u001b[36mJSONDecoder.raw_decode\u001b[39m\u001b[34m(self, s, idx)\u001b[39m\n",
      "\u001b[32m    354\u001b[39m \u001b[38;5;28;01mexcept\u001b[39;00m \u001b[38;5;167;01mStopIteration\u001b[39;00m \u001b[38;5;28;01mas\u001b[39;00m err:\n",
      "\u001b[32m--> \u001b[39m\u001b[32m355\u001b[39m     \u001b[38;5;28;01mraise\u001b[39;00m JSONDecodeError(\u001b[33m\"\u001b[39m\u001b[33mExpecting value\u001b[39m\u001b[33m\"\u001b[39m, s, err.value) \u001b[38;5;28;01mfrom\u001b[39;00m\u001b[38;5;250m \u001b[39m\u001b[38;5;28;01mNone\u001b[39;00m\n",
      "\u001b[32m    356\u001b[39m \u001b[38;5;28;01mreturn\u001b[39;00m obj, end\n",
      "\n",
      "\u001b[31mJSONDecodeError\u001b[39m: Expecting value: line 1 column 1 (char 0)\n",
      "\n",
      "During handling of the above exception, another exception occurred:\n",
      "\n",
      "\u001b[31mJSONDecodeError\u001b[39m                           Traceback (most recent call last)\n",
      "\u001b[36mCell\u001b[39m\u001b[36m \u001b[39m\u001b[32mIn[8]\u001b[39m\u001b[32m, line 2\u001b[39m\n",
      "\u001b[32m      1\u001b[39m \u001b[38;5;28mprint\u001b[39m(response.text)\n",
      "\u001b[32m----> \u001b[39m\u001b[32m2\u001b[39m \u001b[38;5;28mprint\u001b[39m(\u001b[43mresponse\u001b[49m\u001b[43m.\u001b[49m\u001b[43mjson\u001b[49m\u001b[43m(\u001b[49m\u001b[43m)\u001b[49m)\n",
      "\n",
      "\u001b[36mFile \u001b[39m\u001b[32mc:\\hospital\\.venv\\Lib\\site-packages\\requests\\models.py:973\u001b[39m, in \u001b[36mResponse.json\u001b[39m\u001b[34m(self, **kwargs)\u001b[39m\n",
      "\u001b[32m    971\u001b[39m             \u001b[38;5;28;01mpass\u001b[39;00m\n",
      "\u001b[32m    972\u001b[39m         \u001b[38;5;28;01mexcept\u001b[39;00m JSONDecodeError \u001b[38;5;28;01mas\u001b[39;00m e:\n",
      "\u001b[32m--> \u001b[39m\u001b[32m973\u001b[39m             \u001b[38;5;28;01mraise\u001b[39;00m RequestsJSONDecodeError(e.msg, e.doc, e.pos)\n",
      "\u001b[32m    975\u001b[39m \u001b[38;5;28;01mtry\u001b[39;00m:\n",
      "\u001b[32m    976\u001b[39m     \u001b[38;5;28;01mreturn\u001b[39;00m complexjson.loads(\u001b[38;5;28mself\u001b[39m.text, **kwargs)\n",
      "\n",
      "\u001b[31mJSONDecodeError\u001b[39m: Expecting value: line 1 column 1 (char 0)"
     ]
    }
   ],
   "source": [
    "print(response.text)\n",
    "print(response.json())"
   ]
  },
  {
   "cell_type": "code",
   "execution_count": null,
   "id": "3890dfaa",
   "metadata": {},
   "outputs": [
    {
     "name": "stdout",
     "output_type": "stream",
     "text": [
      "<?xml version=\"1.0\" encoding=\"UTF-8\" standalone=\"yes\"?><response><header><resultCode>00</resultCode><resultMsg>NORMAL SERVICE.</resultMsg></header><body><items><item><dutyName>연세대학교의과대학강남세브란스병원</dutyName><dutyTel3>02-2019-3333</dutyTel3><hpid>A1100015</hpid><hv10>Y</hv10><hv11>Y</hv11><hv28>1</hv28><hv29>1</hv29><hv30>2</hv30><hv34>5</hv34><hv41>4</hv41><hv42>Y</hv42><hv5>Y</hv5><hv6>7</hv6><hv7>Y</hv7><hvamyn>Y</hvamyn><hvangioayn>Y</hvangioayn><hvcrrtayn>Y</hvcrrtayn><hvctayn>Y</hvctayn><hvec>-1</hvec><hvecmoayn>Y</hvecmoayn><hvgc>131</hvgc><hvhypoayn>Y</hvhypoayn><hvicc>14</hvicc><hvidate>20250725222112</hvidate><hvincuayn>Y</hvincuayn><hvmriayn>Y</hvmriayn><hvncc>0</hvncc><hvoc>23</hvoc><hvoxyayn>N1</hvoxyayn><hvs01>15</hvs01><hvs02>2</hvs02><hvs03>1</hvs03><hvs04>2</hvs04><hvs08>28</hvs08><hvs12>12</hvs12><hvs15>8</hvs15><hvs17>29</hvs17><hvs22>23</hvs22><hvs25>5</hvs25><hvs26>1</hvs26><hvs27>4</hvs27><hvs28>3</hvs28><hvs29>6</hvs29><hvs30>47</hvs30><hvs31>10</hvs31><hvs32>23</hvs32><hvs33>6</hvs33><hvs34>3</hvs34><hvs35>5</hvs35><hvs38>690</hvs38><hvventiayn>Y</hvventiayn><hvventisoayn>Y</hvventisoayn><phpid>A1100015</phpid><rnum>1</rnum></item><item><dutyName>삼성서울병원</dutyName><dutyTel3>02-3410-2060</dutyTel3><hpid>A1100010</hpid><hv10>Y</hv10><hv11>Y</hv11><hv2>11</hv2><hv28>3</hv28><hv29>0</hv29><hv3>10</hv3><hv30>2</hv30><hv32>5</hv32><hv34>2</hv34><hv35>2</hv35><hv40>8</hv40><hv41>12</hv41><hv42>Y</hv42><hv5>Y</hv5><hv6>4</hv6><hv7>Y</hv7><hvamyn>Y</hvamyn><hvangioayn>Y</hvangioayn><hvccc>1</hvccc><hvcrrtayn>Y</hvcrrtayn><hvctayn>Y</hvctayn><hvec>-4</hvec><hvecmoayn>Y</hvecmoayn><hvgc>285</hvgc><hvhypoayn>Y</hvhypoayn><hvicc>2</hvicc><hvidate>20250725222225</hvidate><hvincuayn>Y</hvincuayn><hvmriayn>Y</hvmriayn><hvncc>7</hvncc><hvoc>52</hvoc><hvoxyayn>N1</hvoxyayn><hvs01>32</hvs01><hvs02>4</hvs02><hvs03>2</hvs03><hvs04>2</hvs04><hvs06>30</hvs06><hvs07>23</hvs07><hvs08>59</hvs08><hvs09>15</hvs09><hvs12>12</hvs12><hvs15>12</hvs15><hvs16>25</hvs16><hvs17>10</hvs17><hvs18>2</hvs18><hvs22>56</hvs22><hvs24>27</hvs24><hvs25>12</hvs25><hvs26>7</hvs26><hvs27>17</hvs27><hvs28>13</hvs28><hvs29>14</hvs29><hvs30>130</hvs30><hvs31>18</hvs31><hvs32>42</hvs32><hvs33>19</hvs33><hvs34>10</hvs34><hvs35>2</hvs35><hvs38>1532</hvs38><hvventiayn>Y</hvventiayn><hvventisoayn>Y</hvventisoayn><phpid>A1100010</phpid><rnum>2</rnum></item></items><numOfRows>10</numOfRows><pageNo>1</pageNo><totalCount>2</totalCount></body></response>\n"
     ]
    },
    {
     "ename": "JSONDecodeError",
     "evalue": "Expecting value: line 1 column 1 (char 0)",
     "output_type": "error",
     "traceback": [
      "\u001b[31m---------------------------------------------------------------------------\u001b[39m\n",
      "\u001b[31mJSONDecodeError\u001b[39m                           Traceback (most recent call last)\n",
      "\u001b[36mFile \u001b[39m\u001b[32mc:\\hospital\\.venv\\Lib\\site-packages\\requests\\models.py:965\u001b[39m, in \u001b[36mResponse.json\u001b[39m\u001b[34m(self, **kwargs)\u001b[39m\n",
      "\u001b[32m    964\u001b[39m \u001b[38;5;28;01mtry\u001b[39;00m:\n",
      "\u001b[32m--> \u001b[39m\u001b[32m965\u001b[39m     \u001b[38;5;28;01mreturn\u001b[39;00m \u001b[43mcomplexjson\u001b[49m\u001b[43m.\u001b[49m\u001b[43mloads\u001b[49m\u001b[43m(\u001b[49m\u001b[38;5;28;43mself\u001b[39;49m\u001b[43m.\u001b[49m\u001b[43mcontent\u001b[49m\u001b[43m.\u001b[49m\u001b[43mdecode\u001b[49m\u001b[43m(\u001b[49m\u001b[43mencoding\u001b[49m\u001b[43m)\u001b[49m\u001b[43m,\u001b[49m\u001b[43m \u001b[49m\u001b[43m*\u001b[49m\u001b[43m*\u001b[49m\u001b[43mkwargs\u001b[49m\u001b[43m)\u001b[49m\n",
      "\u001b[32m    966\u001b[39m \u001b[38;5;28;01mexcept\u001b[39;00m \u001b[38;5;167;01mUnicodeDecodeError\u001b[39;00m:\n",
      "\u001b[32m    967\u001b[39m     \u001b[38;5;66;03m# Wrong UTF codec detected; usually because it's not UTF-8\u001b[39;00m\n",
      "\u001b[32m    968\u001b[39m     \u001b[38;5;66;03m# but some other 8-bit codec.  This is an RFC violation,\u001b[39;00m\n",
      "\u001b[32m    969\u001b[39m     \u001b[38;5;66;03m# and the server didn't bother to tell us what codec *was*\u001b[39;00m\n",
      "\u001b[32m    970\u001b[39m     \u001b[38;5;66;03m# used.\u001b[39;00m\n",
      "\n",
      "\u001b[36mFile \u001b[39m\u001b[32m~\\AppData\\Roaming\\uv\\python\\cpython-3.11.13-windows-x86_64-none\\Lib\\json\\__init__.py:346\u001b[39m, in \u001b[36mloads\u001b[39m\u001b[34m(s, cls, object_hook, parse_float, parse_int, parse_constant, object_pairs_hook, **kw)\u001b[39m\n",
      "\u001b[32m    343\u001b[39m \u001b[38;5;28;01mif\u001b[39;00m (\u001b[38;5;28mcls\u001b[39m \u001b[38;5;129;01mis\u001b[39;00m \u001b[38;5;28;01mNone\u001b[39;00m \u001b[38;5;129;01mand\u001b[39;00m object_hook \u001b[38;5;129;01mis\u001b[39;00m \u001b[38;5;28;01mNone\u001b[39;00m \u001b[38;5;129;01mand\u001b[39;00m\n",
      "\u001b[32m    344\u001b[39m         parse_int \u001b[38;5;129;01mis\u001b[39;00m \u001b[38;5;28;01mNone\u001b[39;00m \u001b[38;5;129;01mand\u001b[39;00m parse_float \u001b[38;5;129;01mis\u001b[39;00m \u001b[38;5;28;01mNone\u001b[39;00m \u001b[38;5;129;01mand\u001b[39;00m\n",
      "\u001b[32m    345\u001b[39m         parse_constant \u001b[38;5;129;01mis\u001b[39;00m \u001b[38;5;28;01mNone\u001b[39;00m \u001b[38;5;129;01mand\u001b[39;00m object_pairs_hook \u001b[38;5;129;01mis\u001b[39;00m \u001b[38;5;28;01mNone\u001b[39;00m \u001b[38;5;129;01mand\u001b[39;00m \u001b[38;5;129;01mnot\u001b[39;00m kw):\n",
      "\u001b[32m--> \u001b[39m\u001b[32m346\u001b[39m     \u001b[38;5;28;01mreturn\u001b[39;00m \u001b[43m_default_decoder\u001b[49m\u001b[43m.\u001b[49m\u001b[43mdecode\u001b[49m\u001b[43m(\u001b[49m\u001b[43ms\u001b[49m\u001b[43m)\u001b[49m\n",
      "\u001b[32m    347\u001b[39m \u001b[38;5;28;01mif\u001b[39;00m \u001b[38;5;28mcls\u001b[39m \u001b[38;5;129;01mis\u001b[39;00m \u001b[38;5;28;01mNone\u001b[39;00m:\n",
      "\n",
      "\u001b[36mFile \u001b[39m\u001b[32m~\\AppData\\Roaming\\uv\\python\\cpython-3.11.13-windows-x86_64-none\\Lib\\json\\decoder.py:337\u001b[39m, in \u001b[36mJSONDecoder.decode\u001b[39m\u001b[34m(self, s, _w)\u001b[39m\n",
      "\u001b[32m    333\u001b[39m \u001b[38;5;250m\u001b[39m\u001b[33;03m\"\"\"Return the Python representation of ``s`` (a ``str`` instance\u001b[39;00m\n",
      "\u001b[32m    334\u001b[39m \u001b[33;03mcontaining a JSON document).\u001b[39;00m\n",
      "\u001b[32m    335\u001b[39m \n",
      "\u001b[32m    336\u001b[39m \u001b[33;03m\"\"\"\u001b[39;00m\n",
      "\u001b[32m--> \u001b[39m\u001b[32m337\u001b[39m obj, end = \u001b[38;5;28;43mself\u001b[39;49m\u001b[43m.\u001b[49m\u001b[43mraw_decode\u001b[49m\u001b[43m(\u001b[49m\u001b[43ms\u001b[49m\u001b[43m,\u001b[49m\u001b[43m \u001b[49m\u001b[43midx\u001b[49m\u001b[43m=\u001b[49m\u001b[43m_w\u001b[49m\u001b[43m(\u001b[49m\u001b[43ms\u001b[49m\u001b[43m,\u001b[49m\u001b[43m \u001b[49m\u001b[32;43m0\u001b[39;49m\u001b[43m)\u001b[49m\u001b[43m.\u001b[49m\u001b[43mend\u001b[49m\u001b[43m(\u001b[49m\u001b[43m)\u001b[49m\u001b[43m)\u001b[49m\n",
      "\u001b[32m    338\u001b[39m end = _w(s, end).end()\n",
      "\n",
      "\u001b[36mFile \u001b[39m\u001b[32m~\\AppData\\Roaming\\uv\\python\\cpython-3.11.13-windows-x86_64-none\\Lib\\json\\decoder.py:355\u001b[39m, in \u001b[36mJSONDecoder.raw_decode\u001b[39m\u001b[34m(self, s, idx)\u001b[39m\n",
      "\u001b[32m    354\u001b[39m \u001b[38;5;28;01mexcept\u001b[39;00m \u001b[38;5;167;01mStopIteration\u001b[39;00m \u001b[38;5;28;01mas\u001b[39;00m err:\n",
      "\u001b[32m--> \u001b[39m\u001b[32m355\u001b[39m     \u001b[38;5;28;01mraise\u001b[39;00m JSONDecodeError(\u001b[33m\"\u001b[39m\u001b[33mExpecting value\u001b[39m\u001b[33m\"\u001b[39m, s, err.value) \u001b[38;5;28;01mfrom\u001b[39;00m\u001b[38;5;250m \u001b[39m\u001b[38;5;28;01mNone\u001b[39;00m\n",
      "\u001b[32m    356\u001b[39m \u001b[38;5;28;01mreturn\u001b[39;00m obj, end\n",
      "\n",
      "\u001b[31mJSONDecodeError\u001b[39m: Expecting value: line 1 column 1 (char 0)\n",
      "\n",
      "During handling of the above exception, another exception occurred:\n",
      "\n",
      "\u001b[31mJSONDecodeError\u001b[39m                           Traceback (most recent call last)\n",
      "\u001b[36mCell\u001b[39m\u001b[36m \u001b[39m\u001b[32mIn[8]\u001b[39m\u001b[32m, line 2\u001b[39m\n",
      "\u001b[32m      1\u001b[39m \u001b[38;5;28mprint\u001b[39m(response.text)\n",
      "\u001b[32m----> \u001b[39m\u001b[32m2\u001b[39m \u001b[38;5;28mprint\u001b[39m(\u001b[43mresponse\u001b[49m\u001b[43m.\u001b[49m\u001b[43mjson\u001b[49m\u001b[43m(\u001b[49m\u001b[43m)\u001b[49m)\n",
      "\n",
      "\u001b[36mFile \u001b[39m\u001b[32mc:\\hospital\\.venv\\Lib\\site-packages\\requests\\models.py:973\u001b[39m, in \u001b[36mResponse.json\u001b[39m\u001b[34m(self, **kwargs)\u001b[39m\n",
      "\u001b[32m    971\u001b[39m             \u001b[38;5;28;01mpass\u001b[39;00m\n",
      "\u001b[32m    972\u001b[39m         \u001b[38;5;28;01mexcept\u001b[39;00m JSONDecodeError \u001b[38;5;28;01mas\u001b[39;00m e:\n",
      "\u001b[32m--> \u001b[39m\u001b[32m973\u001b[39m             \u001b[38;5;28;01mraise\u001b[39;00m RequestsJSONDecodeError(e.msg, e.doc, e.pos)\n",
      "\u001b[32m    975\u001b[39m \u001b[38;5;28;01mtry\u001b[39;00m:\n",
      "\u001b[32m    976\u001b[39m     \u001b[38;5;28;01mreturn\u001b[39;00m complexjson.loads(\u001b[38;5;28mself\u001b[39m.text, **kwargs)\n",
      "\n",
      "\u001b[31mJSONDecodeError\u001b[39m: Expecting value: line 1 column 1 (char 0)"
     ]
    }
   ],
   "source": [
    "print(response.text)\n",
    "print(response.json())"
   ]
  },
  {
   "cell_type": "code",
   "execution_count": null,
   "id": "9b0363e9",
   "metadata": {},
   "outputs": [
    {
     "name": "stdout",
     "output_type": "stream",
     "text": [
      "<?xml version=\"1.0\" encoding=\"UTF-8\" standalone=\"yes\"?><response><header><resultCode>00</resultCode><resultMsg>NORMAL SERVICE.</resultMsg></header><body><items><item><dutyName>연세대학교의과대학강남세브란스병원</dutyName><dutyTel3>02-2019-3333</dutyTel3><hpid>A1100015</hpid><hv10>Y</hv10><hv11>Y</hv11><hv28>1</hv28><hv29>1</hv29><hv30>2</hv30><hv34>5</hv34><hv41>4</hv41><hv42>Y</hv42><hv5>Y</hv5><hv6>7</hv6><hv7>Y</hv7><hvamyn>Y</hvamyn><hvangioayn>Y</hvangioayn><hvcrrtayn>Y</hvcrrtayn><hvctayn>Y</hvctayn><hvec>-1</hvec><hvecmoayn>Y</hvecmoayn><hvgc>131</hvgc><hvhypoayn>Y</hvhypoayn><hvicc>14</hvicc><hvidate>20250725222112</hvidate><hvincuayn>Y</hvincuayn><hvmriayn>Y</hvmriayn><hvncc>0</hvncc><hvoc>23</hvoc><hvoxyayn>N1</hvoxyayn><hvs01>15</hvs01><hvs02>2</hvs02><hvs03>1</hvs03><hvs04>2</hvs04><hvs08>28</hvs08><hvs12>12</hvs12><hvs15>8</hvs15><hvs17>29</hvs17><hvs22>23</hvs22><hvs25>5</hvs25><hvs26>1</hvs26><hvs27>4</hvs27><hvs28>3</hvs28><hvs29>6</hvs29><hvs30>47</hvs30><hvs31>10</hvs31><hvs32>23</hvs32><hvs33>6</hvs33><hvs34>3</hvs34><hvs35>5</hvs35><hvs38>690</hvs38><hvventiayn>Y</hvventiayn><hvventisoayn>Y</hvventisoayn><phpid>A1100015</phpid><rnum>1</rnum></item><item><dutyName>삼성서울병원</dutyName><dutyTel3>02-3410-2060</dutyTel3><hpid>A1100010</hpid><hv10>Y</hv10><hv11>Y</hv11><hv2>11</hv2><hv28>3</hv28><hv29>0</hv29><hv3>10</hv3><hv30>2</hv30><hv32>5</hv32><hv34>2</hv34><hv35>2</hv35><hv40>8</hv40><hv41>12</hv41><hv42>Y</hv42><hv5>Y</hv5><hv6>4</hv6><hv7>Y</hv7><hvamyn>Y</hvamyn><hvangioayn>Y</hvangioayn><hvccc>1</hvccc><hvcrrtayn>Y</hvcrrtayn><hvctayn>Y</hvctayn><hvec>-4</hvec><hvecmoayn>Y</hvecmoayn><hvgc>285</hvgc><hvhypoayn>Y</hvhypoayn><hvicc>2</hvicc><hvidate>20250725222225</hvidate><hvincuayn>Y</hvincuayn><hvmriayn>Y</hvmriayn><hvncc>7</hvncc><hvoc>52</hvoc><hvoxyayn>N1</hvoxyayn><hvs01>32</hvs01><hvs02>4</hvs02><hvs03>2</hvs03><hvs04>2</hvs04><hvs06>30</hvs06><hvs07>23</hvs07><hvs08>59</hvs08><hvs09>15</hvs09><hvs12>12</hvs12><hvs15>12</hvs15><hvs16>25</hvs16><hvs17>10</hvs17><hvs18>2</hvs18><hvs22>56</hvs22><hvs24>27</hvs24><hvs25>12</hvs25><hvs26>7</hvs26><hvs27>17</hvs27><hvs28>13</hvs28><hvs29>14</hvs29><hvs30>130</hvs30><hvs31>18</hvs31><hvs32>42</hvs32><hvs33>19</hvs33><hvs34>10</hvs34><hvs35>2</hvs35><hvs38>1532</hvs38><hvventiayn>Y</hvventiayn><hvventisoayn>Y</hvventisoayn><phpid>A1100010</phpid><rnum>2</rnum></item></items><numOfRows>10</numOfRows><pageNo>1</pageNo><totalCount>2</totalCount></body></response>\n"
     ]
    },
    {
     "ename": "JSONDecodeError",
     "evalue": "Expecting value: line 1 column 1 (char 0)",
     "output_type": "error",
     "traceback": [
      "\u001b[31m---------------------------------------------------------------------------\u001b[39m\n",
      "\u001b[31mJSONDecodeError\u001b[39m                           Traceback (most recent call last)\n",
      "\u001b[36mFile \u001b[39m\u001b[32mc:\\hospital\\.venv\\Lib\\site-packages\\requests\\models.py:965\u001b[39m, in \u001b[36mResponse.json\u001b[39m\u001b[34m(self, **kwargs)\u001b[39m\n",
      "\u001b[32m    964\u001b[39m \u001b[38;5;28;01mtry\u001b[39;00m:\n",
      "\u001b[32m--> \u001b[39m\u001b[32m965\u001b[39m     \u001b[38;5;28;01mreturn\u001b[39;00m \u001b[43mcomplexjson\u001b[49m\u001b[43m.\u001b[49m\u001b[43mloads\u001b[49m\u001b[43m(\u001b[49m\u001b[38;5;28;43mself\u001b[39;49m\u001b[43m.\u001b[49m\u001b[43mcontent\u001b[49m\u001b[43m.\u001b[49m\u001b[43mdecode\u001b[49m\u001b[43m(\u001b[49m\u001b[43mencoding\u001b[49m\u001b[43m)\u001b[49m\u001b[43m,\u001b[49m\u001b[43m \u001b[49m\u001b[43m*\u001b[49m\u001b[43m*\u001b[49m\u001b[43mkwargs\u001b[49m\u001b[43m)\u001b[49m\n",
      "\u001b[32m    966\u001b[39m \u001b[38;5;28;01mexcept\u001b[39;00m \u001b[38;5;167;01mUnicodeDecodeError\u001b[39;00m:\n",
      "\u001b[32m    967\u001b[39m     \u001b[38;5;66;03m# Wrong UTF codec detected; usually because it's not UTF-8\u001b[39;00m\n",
      "\u001b[32m    968\u001b[39m     \u001b[38;5;66;03m# but some other 8-bit codec.  This is an RFC violation,\u001b[39;00m\n",
      "\u001b[32m    969\u001b[39m     \u001b[38;5;66;03m# and the server didn't bother to tell us what codec *was*\u001b[39;00m\n",
      "\u001b[32m    970\u001b[39m     \u001b[38;5;66;03m# used.\u001b[39;00m\n",
      "\n",
      "\u001b[36mFile \u001b[39m\u001b[32m~\\AppData\\Roaming\\uv\\python\\cpython-3.11.13-windows-x86_64-none\\Lib\\json\\__init__.py:346\u001b[39m, in \u001b[36mloads\u001b[39m\u001b[34m(s, cls, object_hook, parse_float, parse_int, parse_constant, object_pairs_hook, **kw)\u001b[39m\n",
      "\u001b[32m    343\u001b[39m \u001b[38;5;28;01mif\u001b[39;00m (\u001b[38;5;28mcls\u001b[39m \u001b[38;5;129;01mis\u001b[39;00m \u001b[38;5;28;01mNone\u001b[39;00m \u001b[38;5;129;01mand\u001b[39;00m object_hook \u001b[38;5;129;01mis\u001b[39;00m \u001b[38;5;28;01mNone\u001b[39;00m \u001b[38;5;129;01mand\u001b[39;00m\n",
      "\u001b[32m    344\u001b[39m         parse_int \u001b[38;5;129;01mis\u001b[39;00m \u001b[38;5;28;01mNone\u001b[39;00m \u001b[38;5;129;01mand\u001b[39;00m parse_float \u001b[38;5;129;01mis\u001b[39;00m \u001b[38;5;28;01mNone\u001b[39;00m \u001b[38;5;129;01mand\u001b[39;00m\n",
      "\u001b[32m    345\u001b[39m         parse_constant \u001b[38;5;129;01mis\u001b[39;00m \u001b[38;5;28;01mNone\u001b[39;00m \u001b[38;5;129;01mand\u001b[39;00m object_pairs_hook \u001b[38;5;129;01mis\u001b[39;00m \u001b[38;5;28;01mNone\u001b[39;00m \u001b[38;5;129;01mand\u001b[39;00m \u001b[38;5;129;01mnot\u001b[39;00m kw):\n",
      "\u001b[32m--> \u001b[39m\u001b[32m346\u001b[39m     \u001b[38;5;28;01mreturn\u001b[39;00m \u001b[43m_default_decoder\u001b[49m\u001b[43m.\u001b[49m\u001b[43mdecode\u001b[49m\u001b[43m(\u001b[49m\u001b[43ms\u001b[49m\u001b[43m)\u001b[49m\n",
      "\u001b[32m    347\u001b[39m \u001b[38;5;28;01mif\u001b[39;00m \u001b[38;5;28mcls\u001b[39m \u001b[38;5;129;01mis\u001b[39;00m \u001b[38;5;28;01mNone\u001b[39;00m:\n",
      "\n",
      "\u001b[36mFile \u001b[39m\u001b[32m~\\AppData\\Roaming\\uv\\python\\cpython-3.11.13-windows-x86_64-none\\Lib\\json\\decoder.py:337\u001b[39m, in \u001b[36mJSONDecoder.decode\u001b[39m\u001b[34m(self, s, _w)\u001b[39m\n",
      "\u001b[32m    333\u001b[39m \u001b[38;5;250m\u001b[39m\u001b[33;03m\"\"\"Return the Python representation of ``s`` (a ``str`` instance\u001b[39;00m\n",
      "\u001b[32m    334\u001b[39m \u001b[33;03mcontaining a JSON document).\u001b[39;00m\n",
      "\u001b[32m    335\u001b[39m \n",
      "\u001b[32m    336\u001b[39m \u001b[33;03m\"\"\"\u001b[39;00m\n",
      "\u001b[32m--> \u001b[39m\u001b[32m337\u001b[39m obj, end = \u001b[38;5;28;43mself\u001b[39;49m\u001b[43m.\u001b[49m\u001b[43mraw_decode\u001b[49m\u001b[43m(\u001b[49m\u001b[43ms\u001b[49m\u001b[43m,\u001b[49m\u001b[43m \u001b[49m\u001b[43midx\u001b[49m\u001b[43m=\u001b[49m\u001b[43m_w\u001b[49m\u001b[43m(\u001b[49m\u001b[43ms\u001b[49m\u001b[43m,\u001b[49m\u001b[43m \u001b[49m\u001b[32;43m0\u001b[39;49m\u001b[43m)\u001b[49m\u001b[43m.\u001b[49m\u001b[43mend\u001b[49m\u001b[43m(\u001b[49m\u001b[43m)\u001b[49m\u001b[43m)\u001b[49m\n",
      "\u001b[32m    338\u001b[39m end = _w(s, end).end()\n",
      "\n",
      "\u001b[36mFile \u001b[39m\u001b[32m~\\AppData\\Roaming\\uv\\python\\cpython-3.11.13-windows-x86_64-none\\Lib\\json\\decoder.py:355\u001b[39m, in \u001b[36mJSONDecoder.raw_decode\u001b[39m\u001b[34m(self, s, idx)\u001b[39m\n",
      "\u001b[32m    354\u001b[39m \u001b[38;5;28;01mexcept\u001b[39;00m \u001b[38;5;167;01mStopIteration\u001b[39;00m \u001b[38;5;28;01mas\u001b[39;00m err:\n",
      "\u001b[32m--> \u001b[39m\u001b[32m355\u001b[39m     \u001b[38;5;28;01mraise\u001b[39;00m JSONDecodeError(\u001b[33m\"\u001b[39m\u001b[33mExpecting value\u001b[39m\u001b[33m\"\u001b[39m, s, err.value) \u001b[38;5;28;01mfrom\u001b[39;00m\u001b[38;5;250m \u001b[39m\u001b[38;5;28;01mNone\u001b[39;00m\n",
      "\u001b[32m    356\u001b[39m \u001b[38;5;28;01mreturn\u001b[39;00m obj, end\n",
      "\n",
      "\u001b[31mJSONDecodeError\u001b[39m: Expecting value: line 1 column 1 (char 0)\n",
      "\n",
      "During handling of the above exception, another exception occurred:\n",
      "\n",
      "\u001b[31mJSONDecodeError\u001b[39m                           Traceback (most recent call last)\n",
      "\u001b[36mCell\u001b[39m\u001b[36m \u001b[39m\u001b[32mIn[8]\u001b[39m\u001b[32m, line 2\u001b[39m\n",
      "\u001b[32m      1\u001b[39m \u001b[38;5;28mprint\u001b[39m(response.text)\n",
      "\u001b[32m----> \u001b[39m\u001b[32m2\u001b[39m \u001b[38;5;28mprint\u001b[39m(\u001b[43mresponse\u001b[49m\u001b[43m.\u001b[49m\u001b[43mjson\u001b[49m\u001b[43m(\u001b[49m\u001b[43m)\u001b[49m)\n",
      "\n",
      "\u001b[36mFile \u001b[39m\u001b[32mc:\\hospital\\.venv\\Lib\\site-packages\\requests\\models.py:973\u001b[39m, in \u001b[36mResponse.json\u001b[39m\u001b[34m(self, **kwargs)\u001b[39m\n",
      "\u001b[32m    971\u001b[39m             \u001b[38;5;28;01mpass\u001b[39;00m\n",
      "\u001b[32m    972\u001b[39m         \u001b[38;5;28;01mexcept\u001b[39;00m JSONDecodeError \u001b[38;5;28;01mas\u001b[39;00m e:\n",
      "\u001b[32m--> \u001b[39m\u001b[32m973\u001b[39m             \u001b[38;5;28;01mraise\u001b[39;00m RequestsJSONDecodeError(e.msg, e.doc, e.pos)\n",
      "\u001b[32m    975\u001b[39m \u001b[38;5;28;01mtry\u001b[39;00m:\n",
      "\u001b[32m    976\u001b[39m     \u001b[38;5;28;01mreturn\u001b[39;00m complexjson.loads(\u001b[38;5;28mself\u001b[39m.text, **kwargs)\n",
      "\n",
      "\u001b[31mJSONDecodeError\u001b[39m: Expecting value: line 1 column 1 (char 0)"
     ]
    }
   ],
   "source": [
    "print(response.text)\n",
    "print(response.json())"
   ]
  }
 ],
 "metadata": {
  "kernelspec": {
   "display_name": ".venv",
   "language": "python",
   "name": "python3"
  },
  "language_info": {
   "codemirror_mode": {
    "name": "ipython",
    "version": 3
   },
   "file_extension": ".py",
   "mimetype": "text/x-python",
   "name": "python",
   "nbconvert_exporter": "python",
   "pygments_lexer": "ipython3",
   "version": "3.11.13"
  }
 },
 "nbformat": 4,
 "nbformat_minor": 5
}
